{
 "cells": [
  {
   "cell_type": "code",
   "execution_count": 1,
   "metadata": {
    "tags": []
   },
   "outputs": [],
   "source": [
    "import pandas as pd \n",
    "import patsy\n",
    "import numpy as np \n",
    "import matplotlib.pyplot as plt \n",
    "import seaborn as sns\n",
    "from feature_model import FeatureModel\n",
    "import contextlib"
   ]
  },
  {
   "cell_type": "code",
   "execution_count": 2,
   "metadata": {
    "tags": []
   },
   "outputs": [],
   "source": [
    "from ce1_compare import compare, set_name, write_submission_txt, set_idm"
   ]
  },
  {
   "cell_type": "code",
   "execution_count": 3,
   "metadata": {
    "tags": []
   },
   "outputs": [],
   "source": [
    "set_name(\"Sujit\", \"Debnath\")\n",
    "set_idm(\"ve75wiwa\")"
   ]
  },
  {
   "cell_type": "markdown",
   "metadata": {},
   "source": [
    "# CE1 (Inherently explainable models part 1)\n",
    "    - 1.1 Taking a look at the data: The bike dataset\n",
    "        - 1.1.1 Fitting a RandomForestRegressor but something seems off..\n",
    "            - Can you explain please?\n",
    "        - 1.1.2 Finding the mistake through correlations\n",
    "    - 1.2 Linear Modeling\n",
    "        - 1.2.1 The intercept feature\n",
    "        - 1.2.2 Re-scaling and shifting numerical features: Standardization\n",
    "        - 1.2.3 Categorical encodings\n",
    "        \n",
    "    - Exercises/Homework:\n",
    "        - 1.1 Standardising data\n",
    "        - 1.2 LASSO-Regularisation\n",
    "        - 1.3 Effect plot\n",
    "        - 1.4 Feature engineering: Adding feature interaction \n",
    "        - 1.5 Feature engineering: Custom basis functions \n"
   ]
  },
  {
   "cell_type": "markdown",
   "metadata": {
    "tags": []
   },
   "source": [
    "### 1.1.0 The bike dataset"
   ]
  },
  {
   "cell_type": "code",
   "execution_count": 4,
   "metadata": {
    "tags": []
   },
   "outputs": [],
   "source": [
    "bike_data = FeatureModel(\"datasets/bike/rented_bikes_day_pre.csv\")"
   ]
  },
  {
   "cell_type": "code",
   "execution_count": 5,
   "metadata": {
    "tags": []
   },
   "outputs": [
    {
     "data": {
      "text/html": [
       "<div>\n",
       "<style scoped>\n",
       "    .dataframe tbody tr th:only-of-type {\n",
       "        vertical-align: middle;\n",
       "    }\n",
       "\n",
       "    .dataframe tbody tr th {\n",
       "        vertical-align: top;\n",
       "    }\n",
       "\n",
       "    .dataframe thead th {\n",
       "        text-align: right;\n",
       "    }\n",
       "</style>\n",
       "<table border=\"1\" class=\"dataframe\">\n",
       "  <thead>\n",
       "    <tr style=\"text-align: right;\">\n",
       "      <th></th>\n",
       "      <th>season</th>\n",
       "      <th>yr</th>\n",
       "      <th>mnth</th>\n",
       "      <th>holiday</th>\n",
       "      <th>weekday</th>\n",
       "      <th>workingday</th>\n",
       "      <th>weathersit</th>\n",
       "      <th>temp</th>\n",
       "      <th>hum</th>\n",
       "      <th>windspeed</th>\n",
       "      <th>casual</th>\n",
       "      <th>registered</th>\n",
       "      <th>cnt</th>\n",
       "      <th>days_since_01_01_2011</th>\n",
       "    </tr>\n",
       "  </thead>\n",
       "  <tbody>\n",
       "    <tr>\n",
       "      <th>0</th>\n",
       "      <td>1</td>\n",
       "      <td>0</td>\n",
       "      <td>1</td>\n",
       "      <td>0</td>\n",
       "      <td>6</td>\n",
       "      <td>0</td>\n",
       "      <td>2</td>\n",
       "      <td>8.175849</td>\n",
       "      <td>0.805833</td>\n",
       "      <td>0.160446</td>\n",
       "      <td>331</td>\n",
       "      <td>654</td>\n",
       "      <td>985</td>\n",
       "      <td>0</td>\n",
       "    </tr>\n",
       "    <tr>\n",
       "      <th>1</th>\n",
       "      <td>1</td>\n",
       "      <td>0</td>\n",
       "      <td>1</td>\n",
       "      <td>0</td>\n",
       "      <td>0</td>\n",
       "      <td>0</td>\n",
       "      <td>2</td>\n",
       "      <td>9.083466</td>\n",
       "      <td>0.696087</td>\n",
       "      <td>0.248539</td>\n",
       "      <td>131</td>\n",
       "      <td>670</td>\n",
       "      <td>801</td>\n",
       "      <td>1</td>\n",
       "    </tr>\n",
       "    <tr>\n",
       "      <th>2</th>\n",
       "      <td>1</td>\n",
       "      <td>0</td>\n",
       "      <td>1</td>\n",
       "      <td>0</td>\n",
       "      <td>1</td>\n",
       "      <td>1</td>\n",
       "      <td>1</td>\n",
       "      <td>1.229108</td>\n",
       "      <td>0.437273</td>\n",
       "      <td>0.248309</td>\n",
       "      <td>120</td>\n",
       "      <td>1229</td>\n",
       "      <td>1349</td>\n",
       "      <td>2</td>\n",
       "    </tr>\n",
       "    <tr>\n",
       "      <th>3</th>\n",
       "      <td>1</td>\n",
       "      <td>0</td>\n",
       "      <td>1</td>\n",
       "      <td>0</td>\n",
       "      <td>2</td>\n",
       "      <td>1</td>\n",
       "      <td>1</td>\n",
       "      <td>1.400000</td>\n",
       "      <td>0.590435</td>\n",
       "      <td>0.160296</td>\n",
       "      <td>108</td>\n",
       "      <td>1454</td>\n",
       "      <td>1562</td>\n",
       "      <td>3</td>\n",
       "    </tr>\n",
       "    <tr>\n",
       "      <th>4</th>\n",
       "      <td>1</td>\n",
       "      <td>0</td>\n",
       "      <td>1</td>\n",
       "      <td>0</td>\n",
       "      <td>3</td>\n",
       "      <td>1</td>\n",
       "      <td>1</td>\n",
       "      <td>2.666979</td>\n",
       "      <td>0.436957</td>\n",
       "      <td>0.186900</td>\n",
       "      <td>82</td>\n",
       "      <td>1518</td>\n",
       "      <td>1600</td>\n",
       "      <td>4</td>\n",
       "    </tr>\n",
       "    <tr>\n",
       "      <th>...</th>\n",
       "      <td>...</td>\n",
       "      <td>...</td>\n",
       "      <td>...</td>\n",
       "      <td>...</td>\n",
       "      <td>...</td>\n",
       "      <td>...</td>\n",
       "      <td>...</td>\n",
       "      <td>...</td>\n",
       "      <td>...</td>\n",
       "      <td>...</td>\n",
       "      <td>...</td>\n",
       "      <td>...</td>\n",
       "      <td>...</td>\n",
       "      <td>...</td>\n",
       "    </tr>\n",
       "    <tr>\n",
       "      <th>726</th>\n",
       "      <td>1</td>\n",
       "      <td>1</td>\n",
       "      <td>12</td>\n",
       "      <td>0</td>\n",
       "      <td>4</td>\n",
       "      <td>1</td>\n",
       "      <td>2</td>\n",
       "      <td>3.945849</td>\n",
       "      <td>0.652917</td>\n",
       "      <td>0.350133</td>\n",
       "      <td>247</td>\n",
       "      <td>1867</td>\n",
       "      <td>2114</td>\n",
       "      <td>726</td>\n",
       "    </tr>\n",
       "    <tr>\n",
       "      <th>727</th>\n",
       "      <td>1</td>\n",
       "      <td>1</td>\n",
       "      <td>12</td>\n",
       "      <td>0</td>\n",
       "      <td>5</td>\n",
       "      <td>1</td>\n",
       "      <td>2</td>\n",
       "      <td>3.906651</td>\n",
       "      <td>0.590000</td>\n",
       "      <td>0.155471</td>\n",
       "      <td>644</td>\n",
       "      <td>2451</td>\n",
       "      <td>3095</td>\n",
       "      <td>727</td>\n",
       "    </tr>\n",
       "    <tr>\n",
       "      <th>728</th>\n",
       "      <td>1</td>\n",
       "      <td>1</td>\n",
       "      <td>12</td>\n",
       "      <td>0</td>\n",
       "      <td>6</td>\n",
       "      <td>0</td>\n",
       "      <td>2</td>\n",
       "      <td>3.906651</td>\n",
       "      <td>0.752917</td>\n",
       "      <td>0.124383</td>\n",
       "      <td>159</td>\n",
       "      <td>1182</td>\n",
       "      <td>1341</td>\n",
       "      <td>728</td>\n",
       "    </tr>\n",
       "    <tr>\n",
       "      <th>729</th>\n",
       "      <td>1</td>\n",
       "      <td>1</td>\n",
       "      <td>12</td>\n",
       "      <td>0</td>\n",
       "      <td>0</td>\n",
       "      <td>0</td>\n",
       "      <td>1</td>\n",
       "      <td>4.024151</td>\n",
       "      <td>0.483333</td>\n",
       "      <td>0.350754</td>\n",
       "      <td>364</td>\n",
       "      <td>1432</td>\n",
       "      <td>1796</td>\n",
       "      <td>729</td>\n",
       "    </tr>\n",
       "    <tr>\n",
       "      <th>730</th>\n",
       "      <td>1</td>\n",
       "      <td>1</td>\n",
       "      <td>12</td>\n",
       "      <td>0</td>\n",
       "      <td>1</td>\n",
       "      <td>1</td>\n",
       "      <td>2</td>\n",
       "      <td>2.144151</td>\n",
       "      <td>0.577500</td>\n",
       "      <td>0.154846</td>\n",
       "      <td>439</td>\n",
       "      <td>2290</td>\n",
       "      <td>2729</td>\n",
       "      <td>730</td>\n",
       "    </tr>\n",
       "  </tbody>\n",
       "</table>\n",
       "<p>731 rows × 14 columns</p>\n",
       "</div>"
      ],
      "text/plain": [
       "     season  yr  mnth  holiday  weekday  workingday  weathersit      temp  \\\n",
       "0         1   0     1        0        6           0           2  8.175849   \n",
       "1         1   0     1        0        0           0           2  9.083466   \n",
       "2         1   0     1        0        1           1           1  1.229108   \n",
       "3         1   0     1        0        2           1           1  1.400000   \n",
       "4         1   0     1        0        3           1           1  2.666979   \n",
       "..      ...  ..   ...      ...      ...         ...         ...       ...   \n",
       "726       1   1    12        0        4           1           2  3.945849   \n",
       "727       1   1    12        0        5           1           2  3.906651   \n",
       "728       1   1    12        0        6           0           2  3.906651   \n",
       "729       1   1    12        0        0           0           1  4.024151   \n",
       "730       1   1    12        0        1           1           2  2.144151   \n",
       "\n",
       "          hum  windspeed  casual  registered   cnt  days_since_01_01_2011  \n",
       "0    0.805833   0.160446     331         654   985                      0  \n",
       "1    0.696087   0.248539     131         670   801                      1  \n",
       "2    0.437273   0.248309     120        1229  1349                      2  \n",
       "3    0.590435   0.160296     108        1454  1562                      3  \n",
       "4    0.436957   0.186900      82        1518  1600                      4  \n",
       "..        ...        ...     ...         ...   ...                    ...  \n",
       "726  0.652917   0.350133     247        1867  2114                    726  \n",
       "727  0.590000   0.155471     644        2451  3095                    727  \n",
       "728  0.752917   0.124383     159        1182  1341                    728  \n",
       "729  0.483333   0.350754     364        1432  1796                    729  \n",
       "730  0.577500   0.154846     439        2290  2729                    730  \n",
       "\n",
       "[731 rows x 14 columns]"
      ]
     },
     "execution_count": 5,
     "metadata": {},
     "output_type": "execute_result"
    }
   ],
   "source": [
    "bike_data.df"
   ]
  },
  {
   "cell_type": "markdown",
   "metadata": {
    "tags": []
   },
   "source": [
    "#### Let's check out the `datasets/bike/readme.txt` to find out what all these columns represent"
   ]
  },
  {
   "cell_type": "code",
   "execution_count": 6,
   "metadata": {
    "tags": []
   },
   "outputs": [
    {
     "name": "stdout",
     "output_type": "stream",
     "text": [
      "FeatureModel(->Not fully specified yet!)\n"
     ]
    }
   ],
   "source": [
    "bike_data.add_target(\"cnt\")"
   ]
  },
  {
   "cell_type": "code",
   "execution_count": 7,
   "metadata": {
    "tags": []
   },
   "outputs": [
    {
     "name": "stdout",
     "output_type": "stream",
     "text": [
      "FeatureModel(cnt ~ -1 + season + yr + mnth + holiday + weekday + workingday + weathersit + temp + hum + windspeed + casual + registered + days_since_01_01_2011 )\n"
     ]
    }
   ],
   "source": [
    "bike_data.add_all_features_but_target()"
   ]
  },
  {
   "cell_type": "code",
   "execution_count": 8,
   "metadata": {
    "tags": []
   },
   "outputs": [],
   "source": [
    "X, y = bike_data.return_Xy()"
   ]
  },
  {
   "cell_type": "code",
   "execution_count": 9,
   "metadata": {
    "tags": []
   },
   "outputs": [
    {
     "data": {
      "text/html": [
       "<div>\n",
       "<style scoped>\n",
       "    .dataframe tbody tr th:only-of-type {\n",
       "        vertical-align: middle;\n",
       "    }\n",
       "\n",
       "    .dataframe tbody tr th {\n",
       "        vertical-align: top;\n",
       "    }\n",
       "\n",
       "    .dataframe thead th {\n",
       "        text-align: right;\n",
       "    }\n",
       "</style>\n",
       "<table border=\"1\" class=\"dataframe\">\n",
       "  <thead>\n",
       "    <tr style=\"text-align: right;\">\n",
       "      <th></th>\n",
       "      <th>season</th>\n",
       "      <th>yr</th>\n",
       "      <th>mnth</th>\n",
       "      <th>holiday</th>\n",
       "      <th>weekday</th>\n",
       "      <th>workingday</th>\n",
       "      <th>weathersit</th>\n",
       "      <th>temp</th>\n",
       "      <th>hum</th>\n",
       "      <th>windspeed</th>\n",
       "      <th>casual</th>\n",
       "      <th>registered</th>\n",
       "      <th>days_since_01_01_2011</th>\n",
       "    </tr>\n",
       "  </thead>\n",
       "  <tbody>\n",
       "    <tr>\n",
       "      <th>0</th>\n",
       "      <td>1.0</td>\n",
       "      <td>0.0</td>\n",
       "      <td>1.0</td>\n",
       "      <td>0.0</td>\n",
       "      <td>6.0</td>\n",
       "      <td>0.0</td>\n",
       "      <td>2.0</td>\n",
       "      <td>8.175849</td>\n",
       "      <td>0.805833</td>\n",
       "      <td>0.160446</td>\n",
       "      <td>331.0</td>\n",
       "      <td>654.0</td>\n",
       "      <td>0.0</td>\n",
       "    </tr>\n",
       "    <tr>\n",
       "      <th>1</th>\n",
       "      <td>1.0</td>\n",
       "      <td>0.0</td>\n",
       "      <td>1.0</td>\n",
       "      <td>0.0</td>\n",
       "      <td>0.0</td>\n",
       "      <td>0.0</td>\n",
       "      <td>2.0</td>\n",
       "      <td>9.083466</td>\n",
       "      <td>0.696087</td>\n",
       "      <td>0.248539</td>\n",
       "      <td>131.0</td>\n",
       "      <td>670.0</td>\n",
       "      <td>1.0</td>\n",
       "    </tr>\n",
       "    <tr>\n",
       "      <th>2</th>\n",
       "      <td>1.0</td>\n",
       "      <td>0.0</td>\n",
       "      <td>1.0</td>\n",
       "      <td>0.0</td>\n",
       "      <td>1.0</td>\n",
       "      <td>1.0</td>\n",
       "      <td>1.0</td>\n",
       "      <td>1.229108</td>\n",
       "      <td>0.437273</td>\n",
       "      <td>0.248309</td>\n",
       "      <td>120.0</td>\n",
       "      <td>1229.0</td>\n",
       "      <td>2.0</td>\n",
       "    </tr>\n",
       "    <tr>\n",
       "      <th>3</th>\n",
       "      <td>1.0</td>\n",
       "      <td>0.0</td>\n",
       "      <td>1.0</td>\n",
       "      <td>0.0</td>\n",
       "      <td>2.0</td>\n",
       "      <td>1.0</td>\n",
       "      <td>1.0</td>\n",
       "      <td>1.400000</td>\n",
       "      <td>0.590435</td>\n",
       "      <td>0.160296</td>\n",
       "      <td>108.0</td>\n",
       "      <td>1454.0</td>\n",
       "      <td>3.0</td>\n",
       "    </tr>\n",
       "    <tr>\n",
       "      <th>4</th>\n",
       "      <td>1.0</td>\n",
       "      <td>0.0</td>\n",
       "      <td>1.0</td>\n",
       "      <td>0.0</td>\n",
       "      <td>3.0</td>\n",
       "      <td>1.0</td>\n",
       "      <td>1.0</td>\n",
       "      <td>2.666979</td>\n",
       "      <td>0.436957</td>\n",
       "      <td>0.186900</td>\n",
       "      <td>82.0</td>\n",
       "      <td>1518.0</td>\n",
       "      <td>4.0</td>\n",
       "    </tr>\n",
       "    <tr>\n",
       "      <th>...</th>\n",
       "      <td>...</td>\n",
       "      <td>...</td>\n",
       "      <td>...</td>\n",
       "      <td>...</td>\n",
       "      <td>...</td>\n",
       "      <td>...</td>\n",
       "      <td>...</td>\n",
       "      <td>...</td>\n",
       "      <td>...</td>\n",
       "      <td>...</td>\n",
       "      <td>...</td>\n",
       "      <td>...</td>\n",
       "      <td>...</td>\n",
       "    </tr>\n",
       "    <tr>\n",
       "      <th>726</th>\n",
       "      <td>1.0</td>\n",
       "      <td>1.0</td>\n",
       "      <td>12.0</td>\n",
       "      <td>0.0</td>\n",
       "      <td>4.0</td>\n",
       "      <td>1.0</td>\n",
       "      <td>2.0</td>\n",
       "      <td>3.945849</td>\n",
       "      <td>0.652917</td>\n",
       "      <td>0.350133</td>\n",
       "      <td>247.0</td>\n",
       "      <td>1867.0</td>\n",
       "      <td>726.0</td>\n",
       "    </tr>\n",
       "    <tr>\n",
       "      <th>727</th>\n",
       "      <td>1.0</td>\n",
       "      <td>1.0</td>\n",
       "      <td>12.0</td>\n",
       "      <td>0.0</td>\n",
       "      <td>5.0</td>\n",
       "      <td>1.0</td>\n",
       "      <td>2.0</td>\n",
       "      <td>3.906651</td>\n",
       "      <td>0.590000</td>\n",
       "      <td>0.155471</td>\n",
       "      <td>644.0</td>\n",
       "      <td>2451.0</td>\n",
       "      <td>727.0</td>\n",
       "    </tr>\n",
       "    <tr>\n",
       "      <th>728</th>\n",
       "      <td>1.0</td>\n",
       "      <td>1.0</td>\n",
       "      <td>12.0</td>\n",
       "      <td>0.0</td>\n",
       "      <td>6.0</td>\n",
       "      <td>0.0</td>\n",
       "      <td>2.0</td>\n",
       "      <td>3.906651</td>\n",
       "      <td>0.752917</td>\n",
       "      <td>0.124383</td>\n",
       "      <td>159.0</td>\n",
       "      <td>1182.0</td>\n",
       "      <td>728.0</td>\n",
       "    </tr>\n",
       "    <tr>\n",
       "      <th>729</th>\n",
       "      <td>1.0</td>\n",
       "      <td>1.0</td>\n",
       "      <td>12.0</td>\n",
       "      <td>0.0</td>\n",
       "      <td>0.0</td>\n",
       "      <td>0.0</td>\n",
       "      <td>1.0</td>\n",
       "      <td>4.024151</td>\n",
       "      <td>0.483333</td>\n",
       "      <td>0.350754</td>\n",
       "      <td>364.0</td>\n",
       "      <td>1432.0</td>\n",
       "      <td>729.0</td>\n",
       "    </tr>\n",
       "    <tr>\n",
       "      <th>730</th>\n",
       "      <td>1.0</td>\n",
       "      <td>1.0</td>\n",
       "      <td>12.0</td>\n",
       "      <td>0.0</td>\n",
       "      <td>1.0</td>\n",
       "      <td>1.0</td>\n",
       "      <td>2.0</td>\n",
       "      <td>2.144151</td>\n",
       "      <td>0.577500</td>\n",
       "      <td>0.154846</td>\n",
       "      <td>439.0</td>\n",
       "      <td>2290.0</td>\n",
       "      <td>730.0</td>\n",
       "    </tr>\n",
       "  </tbody>\n",
       "</table>\n",
       "<p>731 rows × 13 columns</p>\n",
       "</div>"
      ],
      "text/plain": [
       "     season   yr  mnth  holiday  weekday  workingday  weathersit      temp  \\\n",
       "0       1.0  0.0   1.0      0.0      6.0         0.0         2.0  8.175849   \n",
       "1       1.0  0.0   1.0      0.0      0.0         0.0         2.0  9.083466   \n",
       "2       1.0  0.0   1.0      0.0      1.0         1.0         1.0  1.229108   \n",
       "3       1.0  0.0   1.0      0.0      2.0         1.0         1.0  1.400000   \n",
       "4       1.0  0.0   1.0      0.0      3.0         1.0         1.0  2.666979   \n",
       "..      ...  ...   ...      ...      ...         ...         ...       ...   \n",
       "726     1.0  1.0  12.0      0.0      4.0         1.0         2.0  3.945849   \n",
       "727     1.0  1.0  12.0      0.0      5.0         1.0         2.0  3.906651   \n",
       "728     1.0  1.0  12.0      0.0      6.0         0.0         2.0  3.906651   \n",
       "729     1.0  1.0  12.0      0.0      0.0         0.0         1.0  4.024151   \n",
       "730     1.0  1.0  12.0      0.0      1.0         1.0         2.0  2.144151   \n",
       "\n",
       "          hum  windspeed  casual  registered  days_since_01_01_2011  \n",
       "0    0.805833   0.160446   331.0       654.0                    0.0  \n",
       "1    0.696087   0.248539   131.0       670.0                    1.0  \n",
       "2    0.437273   0.248309   120.0      1229.0                    2.0  \n",
       "3    0.590435   0.160296   108.0      1454.0                    3.0  \n",
       "4    0.436957   0.186900    82.0      1518.0                    4.0  \n",
       "..        ...        ...     ...         ...                    ...  \n",
       "726  0.652917   0.350133   247.0      1867.0                  726.0  \n",
       "727  0.590000   0.155471   644.0      2451.0                  727.0  \n",
       "728  0.752917   0.124383   159.0      1182.0                  728.0  \n",
       "729  0.483333   0.350754   364.0      1432.0                  729.0  \n",
       "730  0.577500   0.154846   439.0      2290.0                  730.0  \n",
       "\n",
       "[731 rows x 13 columns]"
      ]
     },
     "execution_count": 9,
     "metadata": {},
     "output_type": "execute_result"
    }
   ],
   "source": [
    "X"
   ]
  },
  {
   "cell_type": "code",
   "execution_count": 10,
   "metadata": {
    "tags": []
   },
   "outputs": [],
   "source": [
    "bike_data.intercept=False\n",
    "\n",
    "X, y = bike_data.return_Xy()"
   ]
  },
  {
   "cell_type": "code",
   "execution_count": 11,
   "metadata": {
    "tags": []
   },
   "outputs": [
    {
     "data": {
      "text/html": [
       "<div>\n",
       "<style scoped>\n",
       "    .dataframe tbody tr th:only-of-type {\n",
       "        vertical-align: middle;\n",
       "    }\n",
       "\n",
       "    .dataframe tbody tr th {\n",
       "        vertical-align: top;\n",
       "    }\n",
       "\n",
       "    .dataframe thead th {\n",
       "        text-align: right;\n",
       "    }\n",
       "</style>\n",
       "<table border=\"1\" class=\"dataframe\">\n",
       "  <thead>\n",
       "    <tr style=\"text-align: right;\">\n",
       "      <th></th>\n",
       "      <th>season</th>\n",
       "      <th>yr</th>\n",
       "      <th>mnth</th>\n",
       "      <th>holiday</th>\n",
       "      <th>weekday</th>\n",
       "      <th>workingday</th>\n",
       "      <th>weathersit</th>\n",
       "      <th>temp</th>\n",
       "      <th>hum</th>\n",
       "      <th>windspeed</th>\n",
       "      <th>casual</th>\n",
       "      <th>registered</th>\n",
       "      <th>days_since_01_01_2011</th>\n",
       "    </tr>\n",
       "  </thead>\n",
       "  <tbody>\n",
       "    <tr>\n",
       "      <th>0</th>\n",
       "      <td>1.0</td>\n",
       "      <td>0.0</td>\n",
       "      <td>1.0</td>\n",
       "      <td>0.0</td>\n",
       "      <td>6.0</td>\n",
       "      <td>0.0</td>\n",
       "      <td>2.0</td>\n",
       "      <td>8.175849</td>\n",
       "      <td>0.805833</td>\n",
       "      <td>0.160446</td>\n",
       "      <td>331.0</td>\n",
       "      <td>654.0</td>\n",
       "      <td>0.0</td>\n",
       "    </tr>\n",
       "    <tr>\n",
       "      <th>1</th>\n",
       "      <td>1.0</td>\n",
       "      <td>0.0</td>\n",
       "      <td>1.0</td>\n",
       "      <td>0.0</td>\n",
       "      <td>0.0</td>\n",
       "      <td>0.0</td>\n",
       "      <td>2.0</td>\n",
       "      <td>9.083466</td>\n",
       "      <td>0.696087</td>\n",
       "      <td>0.248539</td>\n",
       "      <td>131.0</td>\n",
       "      <td>670.0</td>\n",
       "      <td>1.0</td>\n",
       "    </tr>\n",
       "    <tr>\n",
       "      <th>2</th>\n",
       "      <td>1.0</td>\n",
       "      <td>0.0</td>\n",
       "      <td>1.0</td>\n",
       "      <td>0.0</td>\n",
       "      <td>1.0</td>\n",
       "      <td>1.0</td>\n",
       "      <td>1.0</td>\n",
       "      <td>1.229108</td>\n",
       "      <td>0.437273</td>\n",
       "      <td>0.248309</td>\n",
       "      <td>120.0</td>\n",
       "      <td>1229.0</td>\n",
       "      <td>2.0</td>\n",
       "    </tr>\n",
       "    <tr>\n",
       "      <th>3</th>\n",
       "      <td>1.0</td>\n",
       "      <td>0.0</td>\n",
       "      <td>1.0</td>\n",
       "      <td>0.0</td>\n",
       "      <td>2.0</td>\n",
       "      <td>1.0</td>\n",
       "      <td>1.0</td>\n",
       "      <td>1.400000</td>\n",
       "      <td>0.590435</td>\n",
       "      <td>0.160296</td>\n",
       "      <td>108.0</td>\n",
       "      <td>1454.0</td>\n",
       "      <td>3.0</td>\n",
       "    </tr>\n",
       "    <tr>\n",
       "      <th>4</th>\n",
       "      <td>1.0</td>\n",
       "      <td>0.0</td>\n",
       "      <td>1.0</td>\n",
       "      <td>0.0</td>\n",
       "      <td>3.0</td>\n",
       "      <td>1.0</td>\n",
       "      <td>1.0</td>\n",
       "      <td>2.666979</td>\n",
       "      <td>0.436957</td>\n",
       "      <td>0.186900</td>\n",
       "      <td>82.0</td>\n",
       "      <td>1518.0</td>\n",
       "      <td>4.0</td>\n",
       "    </tr>\n",
       "    <tr>\n",
       "      <th>...</th>\n",
       "      <td>...</td>\n",
       "      <td>...</td>\n",
       "      <td>...</td>\n",
       "      <td>...</td>\n",
       "      <td>...</td>\n",
       "      <td>...</td>\n",
       "      <td>...</td>\n",
       "      <td>...</td>\n",
       "      <td>...</td>\n",
       "      <td>...</td>\n",
       "      <td>...</td>\n",
       "      <td>...</td>\n",
       "      <td>...</td>\n",
       "    </tr>\n",
       "    <tr>\n",
       "      <th>726</th>\n",
       "      <td>1.0</td>\n",
       "      <td>1.0</td>\n",
       "      <td>12.0</td>\n",
       "      <td>0.0</td>\n",
       "      <td>4.0</td>\n",
       "      <td>1.0</td>\n",
       "      <td>2.0</td>\n",
       "      <td>3.945849</td>\n",
       "      <td>0.652917</td>\n",
       "      <td>0.350133</td>\n",
       "      <td>247.0</td>\n",
       "      <td>1867.0</td>\n",
       "      <td>726.0</td>\n",
       "    </tr>\n",
       "    <tr>\n",
       "      <th>727</th>\n",
       "      <td>1.0</td>\n",
       "      <td>1.0</td>\n",
       "      <td>12.0</td>\n",
       "      <td>0.0</td>\n",
       "      <td>5.0</td>\n",
       "      <td>1.0</td>\n",
       "      <td>2.0</td>\n",
       "      <td>3.906651</td>\n",
       "      <td>0.590000</td>\n",
       "      <td>0.155471</td>\n",
       "      <td>644.0</td>\n",
       "      <td>2451.0</td>\n",
       "      <td>727.0</td>\n",
       "    </tr>\n",
       "    <tr>\n",
       "      <th>728</th>\n",
       "      <td>1.0</td>\n",
       "      <td>1.0</td>\n",
       "      <td>12.0</td>\n",
       "      <td>0.0</td>\n",
       "      <td>6.0</td>\n",
       "      <td>0.0</td>\n",
       "      <td>2.0</td>\n",
       "      <td>3.906651</td>\n",
       "      <td>0.752917</td>\n",
       "      <td>0.124383</td>\n",
       "      <td>159.0</td>\n",
       "      <td>1182.0</td>\n",
       "      <td>728.0</td>\n",
       "    </tr>\n",
       "    <tr>\n",
       "      <th>729</th>\n",
       "      <td>1.0</td>\n",
       "      <td>1.0</td>\n",
       "      <td>12.0</td>\n",
       "      <td>0.0</td>\n",
       "      <td>0.0</td>\n",
       "      <td>0.0</td>\n",
       "      <td>1.0</td>\n",
       "      <td>4.024151</td>\n",
       "      <td>0.483333</td>\n",
       "      <td>0.350754</td>\n",
       "      <td>364.0</td>\n",
       "      <td>1432.0</td>\n",
       "      <td>729.0</td>\n",
       "    </tr>\n",
       "    <tr>\n",
       "      <th>730</th>\n",
       "      <td>1.0</td>\n",
       "      <td>1.0</td>\n",
       "      <td>12.0</td>\n",
       "      <td>0.0</td>\n",
       "      <td>1.0</td>\n",
       "      <td>1.0</td>\n",
       "      <td>2.0</td>\n",
       "      <td>2.144151</td>\n",
       "      <td>0.577500</td>\n",
       "      <td>0.154846</td>\n",
       "      <td>439.0</td>\n",
       "      <td>2290.0</td>\n",
       "      <td>730.0</td>\n",
       "    </tr>\n",
       "  </tbody>\n",
       "</table>\n",
       "<p>731 rows × 13 columns</p>\n",
       "</div>"
      ],
      "text/plain": [
       "     season   yr  mnth  holiday  weekday  workingday  weathersit      temp  \\\n",
       "0       1.0  0.0   1.0      0.0      6.0         0.0         2.0  8.175849   \n",
       "1       1.0  0.0   1.0      0.0      0.0         0.0         2.0  9.083466   \n",
       "2       1.0  0.0   1.0      0.0      1.0         1.0         1.0  1.229108   \n",
       "3       1.0  0.0   1.0      0.0      2.0         1.0         1.0  1.400000   \n",
       "4       1.0  0.0   1.0      0.0      3.0         1.0         1.0  2.666979   \n",
       "..      ...  ...   ...      ...      ...         ...         ...       ...   \n",
       "726     1.0  1.0  12.0      0.0      4.0         1.0         2.0  3.945849   \n",
       "727     1.0  1.0  12.0      0.0      5.0         1.0         2.0  3.906651   \n",
       "728     1.0  1.0  12.0      0.0      6.0         0.0         2.0  3.906651   \n",
       "729     1.0  1.0  12.0      0.0      0.0         0.0         1.0  4.024151   \n",
       "730     1.0  1.0  12.0      0.0      1.0         1.0         2.0  2.144151   \n",
       "\n",
       "          hum  windspeed  casual  registered  days_since_01_01_2011  \n",
       "0    0.805833   0.160446   331.0       654.0                    0.0  \n",
       "1    0.696087   0.248539   131.0       670.0                    1.0  \n",
       "2    0.437273   0.248309   120.0      1229.0                    2.0  \n",
       "3    0.590435   0.160296   108.0      1454.0                    3.0  \n",
       "4    0.436957   0.186900    82.0      1518.0                    4.0  \n",
       "..        ...        ...     ...         ...                    ...  \n",
       "726  0.652917   0.350133   247.0      1867.0                  726.0  \n",
       "727  0.590000   0.155471   644.0      2451.0                  727.0  \n",
       "728  0.752917   0.124383   159.0      1182.0                  728.0  \n",
       "729  0.483333   0.350754   364.0      1432.0                  729.0  \n",
       "730  0.577500   0.154846   439.0      2290.0                  730.0  \n",
       "\n",
       "[731 rows x 13 columns]"
      ]
     },
     "execution_count": 11,
     "metadata": {},
     "output_type": "execute_result"
    }
   ],
   "source": [
    "X"
   ]
  },
  {
   "cell_type": "markdown",
   "metadata": {
    "tags": []
   },
   "source": [
    "### 1.1.1 Fitting a Random Forest Regressor"
   ]
  },
  {
   "cell_type": "code",
   "execution_count": 12,
   "metadata": {
    "tags": []
   },
   "outputs": [
    {
     "data": {
      "text/plain": [
       "RandomForestRegressor()"
      ]
     },
     "execution_count": 12,
     "metadata": {},
     "output_type": "execute_result"
    }
   ],
   "source": [
    "from sklearn.ensemble import RandomForestRegressor\n",
    "\n",
    "clf = RandomForestRegressor()\n",
    "\n",
    "clf.fit(X, y.to_numpy().flatten())"
   ]
  },
  {
   "cell_type": "code",
   "execution_count": 13,
   "metadata": {
    "tags": []
   },
   "outputs": [
    {
     "data": {
      "text/plain": [
       "0.9995294453229031"
      ]
     },
     "execution_count": 13,
     "metadata": {},
     "output_type": "execute_result"
    }
   ],
   "source": [
    "clf.score(X, y)"
   ]
  },
  {
   "cell_type": "markdown",
   "metadata": {
    "tags": []
   },
   "source": [
    "#### Q: What is that score? You may want to check the documentation"
   ]
  },
  {
   "cell_type": "markdown",
   "metadata": {
    "tags": []
   },
   "source": [
    "### 1.1.2 Looking for correlations in the data"
   ]
  },
  {
   "cell_type": "code",
   "execution_count": 14,
   "metadata": {
    "tags": []
   },
   "outputs": [
    {
     "name": "stdout",
     "output_type": "stream",
     "text": [
      "FeatureModel(cnt ~ -1 + season + yr + mnth + holiday + weekday + workingday + weathersit + temp + hum + windspeed + casual + registered + days_since_01_01_2011 + cnt )\n"
     ]
    }
   ],
   "source": [
    "bike_data.add_feature(\"cnt\")\n",
    "X, _ = bike_data.return_Xy()"
   ]
  },
  {
   "cell_type": "code",
   "execution_count": 15,
   "metadata": {
    "tags": []
   },
   "outputs": [],
   "source": [
    "sns.set(font_scale = 2)\n",
    "\n",
    "def correlation_heatmap(X, size=5):\n",
    "    fig, ax = plt.subplots(figsize=((size+1)*2,size*2))    \n",
    "    sns.heatmap(np.corrcoef(X.transpose()), cmap=\"coolwarm\", linewidth=0.5, xticklabels=X.columns, yticklabels=X.columns, ax=ax, vmin=-1, vmax=1)"
   ]
  },
  {
   "cell_type": "code",
   "execution_count": 16,
   "metadata": {
    "tags": []
   },
   "outputs": [
    {
     "data": {
      "image/png": "[encoded data removed]",
      "text/plain": [
       "<Figure size 1200x1000 with 2 Axes>"
      ]
     },
     "metadata": {},
     "output_type": "display_data"
    }
   ],
   "source": [
    "correlation_heatmap(X)"
   ]
  },
  {
   "cell_type": "markdown",
   "metadata": {
    "tags": []
   },
   "source": [
    "### 1.2.1 The intercept term\n",
    "Without intercept term a e.g. linear model can not compensate for a target with a shifted mean value / mean value different to zero"
   ]
  },
  {
   "cell_type": "code",
   "execution_count": 17,
   "metadata": {
    "tags": []
   },
   "outputs": [
    {
     "name": "stdout",
     "output_type": "stream",
     "text": [
      "FeatureModel(->Not fully specified yet!)\n",
      "FeatureModel(cnt ~ 1 + temp )\n",
      "FeatureModel(cnt ~ 1 + temp + days_since_01_01_2011 )\n",
      "FeatureModel(cnt ~ 1 + temp + days_since_01_01_2011 + workingday )\n"
     ]
    }
   ],
   "source": [
    "bike_data = FeatureModel(\"datasets/bike/rented_bikes_day_pre.csv\", include_intercept_feature=True)\n",
    "bike_data.add_target(\"cnt\")\n",
    "bike_data.add_feature(\"temp\")\n",
    "bike_data.add_feature(\"days_since_01_01_2011\")\n",
    "bike_data.add_feature(\"workingday\")\n",
    "X, y = bike_data.return_Xy()"
   ]
  },
  {
   "cell_type": "code",
   "execution_count": 18,
   "metadata": {
    "tags": []
   },
   "outputs": [
    {
     "data": {
      "text/plain": [
       "cnt    4504.348837\n",
       "dtype: float64"
      ]
     },
     "execution_count": 18,
     "metadata": {},
     "output_type": "execute_result"
    }
   ],
   "source": [
    "y.mean()"
   ]
  },
  {
   "cell_type": "code",
   "execution_count": 19,
   "metadata": {
    "tags": []
   },
   "outputs": [
    {
     "data": {
      "text/plain": [
       "LinearRegression(fit_intercept=False)"
      ]
     },
     "execution_count": 19,
     "metadata": {},
     "output_type": "execute_result"
    }
   ],
   "source": [
    "from sklearn.linear_model import LinearRegression\n",
    "\n",
    "regr = LinearRegression(fit_intercept=False)\n",
    "regr.fit(X, y)"
   ]
  },
  {
   "cell_type": "code",
   "execution_count": 20,
   "metadata": {
    "tags": []
   },
   "outputs": [
    {
     "data": {
      "text/plain": [
       "array([[703.178685  , 122.32509658,   5.01974321, 145.40909362]])"
      ]
     },
     "execution_count": 20,
     "metadata": {},
     "output_type": "execute_result"
    }
   ],
   "source": [
    "regr.coef_"
   ]
  },
  {
   "cell_type": "code",
   "execution_count": 21,
   "metadata": {
    "tags": []
   },
   "outputs": [
    {
     "data": {
      "text/plain": [
       "Index(['Intercept', 'temp', 'days_since_01_01_2011', 'workingday'], dtype='object')"
      ]
     },
     "execution_count": 21,
     "metadata": {},
     "output_type": "execute_result"
    }
   ],
   "source": [
    "X.columns"
   ]
  },
  {
   "cell_type": "code",
   "execution_count": 22,
   "metadata": {
    "tags": []
   },
   "outputs": [
    {
     "name": "stdout",
     "output_type": "stream",
     "text": [
      "[[703.178685   122.32509658   5.01974321 145.40909362]]\n"
     ]
    }
   ],
   "source": [
    "X, y = bike_data.return_Xy()\n",
    "regr.fit(X, y)\n",
    "print(regr.coef_)"
   ]
  },
  {
   "cell_type": "markdown",
   "metadata": {
    "tags": []
   },
   "source": [
    "### 1.2.2 Rescaling and shifting numerical features"
   ]
  },
  {
   "cell_type": "code",
   "execution_count": 23,
   "metadata": {
    "tags": []
   },
   "outputs": [],
   "source": [
    "def center_temp(df):\n",
    "    df.temp = df.temp - df.temp.mean()\n",
    "    return df \n",
    "    \n",
    "X, y = bike_data.return_Xy(transform_before=center_temp)"
   ]
  },
  {
   "cell_type": "code",
   "execution_count": 24,
   "metadata": {
    "tags": []
   },
   "outputs": [
    {
     "name": "stdout",
     "output_type": "stream",
     "text": [
      "[[2572.68354097  122.32509658    5.01974321  145.40909362]]\n"
     ]
    }
   ],
   "source": [
    "regr.fit(X, y)\n",
    "print(regr.coef_)"
   ]
  },
  {
   "cell_type": "markdown",
   "metadata": {},
   "source": [
    "Notice how only the intercept term changed\n",
    "\n",
    "Q: \n",
    "- What does this intercept value now mean / reflect? \n",
    "- What did the intercept value before centering the temperature feature?\n",
    "\n",
    "Q: \n",
    "- What does the temperature weight mean? \n",
    "- When interpreting the weight what are you assuming? \n",
    "- Is your assumption justified, how could you check (at least an important part that underlies the assumption)? Hint: Correlations"
   ]
  },
  {
   "cell_type": "code",
   "execution_count": 25,
   "metadata": {
    "tags": []
   },
   "outputs": [],
   "source": [
    "def standardize_temp(df):\n",
    "    df.temp = (df.temp - df.temp.mean())/df.temp.std()\n",
    "    return df \n",
    "    \n",
    "X, y = bike_data.return_Xy(transform_before=standardize_temp)"
   ]
  },
  {
   "cell_type": "code",
   "execution_count": 26,
   "metadata": {
    "tags": []
   },
   "outputs": [
    {
     "name": "stdout",
     "output_type": "stream",
     "text": [
      "[[2572.68354097 1052.41134657    5.01974321  145.40909362]]\n"
     ]
    }
   ],
   "source": [
    "regr.fit(X, y)\n",
    "print(regr.coef_)"
   ]
  },
  {
   "cell_type": "markdown",
   "metadata": {},
   "source": [
    "Q: What is the ratio between the temperature weight before and after standardize?\n",
    "\n",
    "Q: After standardising numerical features. Is it easier to interpret the weights individually? Is it easier to compare the magnitude of weights to other weigths?"
   ]
  },
  {
   "cell_type": "markdown",
   "metadata": {},
   "source": [
    "Q: How to obtain a probabilistic estimate of weights?"
   ]
  },
  {
   "cell_type": "code",
   "execution_count": 27,
   "metadata": {
    "tags": []
   },
   "outputs": [],
   "source": [
    "import statsmodels.api as sm"
   ]
  },
  {
   "cell_type": "code",
   "execution_count": 28,
   "metadata": {
    "tags": []
   },
   "outputs": [],
   "source": [
    "sm_model = sm.OLS(y, X)"
   ]
  },
  {
   "cell_type": "code",
   "execution_count": 29,
   "metadata": {
    "tags": []
   },
   "outputs": [],
   "source": [
    "results = sm_model.fit()"
   ]
  },
  {
   "cell_type": "code",
   "execution_count": 30,
   "metadata": {
    "tags": []
   },
   "outputs": [
    {
     "data": {
      "text/html": [
       "<table class=\"simpletable\">\n",
       "<caption>OLS Regression Results</caption>\n",
       "<tr>\n",
       "  <th>Dep. Variable:</th>           <td>cnt</td>       <th>  R-squared:         </th> <td>   0.687</td> \n",
       "</tr>\n",
       "<tr>\n",
       "  <th>Model:</th>                   <td>OLS</td>       <th>  Adj. R-squared:    </th> <td>   0.686</td> \n",
       "</tr>\n",
       "<tr>\n",
       "  <th>Method:</th>             <td>Least Squares</td>  <th>  F-statistic:       </th> <td>   532.2</td> \n",
       "</tr>\n",
       "<tr>\n",
       "  <th>Date:</th>             <td>Wed, 10 May 2023</td> <th>  Prob (F-statistic):</th> <td>6.71e-183</td>\n",
       "</tr>\n",
       "<tr>\n",
       "  <th>Time:</th>                 <td>22:23:43</td>     <th>  Log-Likelihood:    </th> <td> -6145.0</td> \n",
       "</tr>\n",
       "<tr>\n",
       "  <th>No. Observations:</th>      <td>   731</td>      <th>  AIC:               </th> <td>1.230e+04</td>\n",
       "</tr>\n",
       "<tr>\n",
       "  <th>Df Residuals:</th>          <td>   727</td>      <th>  BIC:               </th> <td>1.232e+04</td>\n",
       "</tr>\n",
       "<tr>\n",
       "  <th>Df Model:</th>              <td>     3</td>      <th>                     </th>     <td> </td>    \n",
       "</tr>\n",
       "<tr>\n",
       "  <th>Covariance Type:</th>      <td>nonrobust</td>    <th>                     </th>     <td> </td>    \n",
       "</tr>\n",
       "</table>\n",
       "<table class=\"simpletable\">\n",
       "<tr>\n",
       "            <td></td>               <th>coef</th>     <th>std err</th>      <th>t</th>      <th>P>|t|</th>  <th>[0.025</th>    <th>0.975]</th>  \n",
       "</tr>\n",
       "<tr>\n",
       "  <th>Intercept</th>             <td> 2572.6835</td> <td>  100.777</td> <td>   25.528</td> <td> 0.000</td> <td> 2374.835</td> <td> 2770.532</td>\n",
       "</tr>\n",
       "<tr>\n",
       "  <th>temp</th>                  <td> 1052.4113</td> <td>   40.712</td> <td>   25.850</td> <td> 0.000</td> <td>  972.485</td> <td> 1132.338</td>\n",
       "</tr>\n",
       "<tr>\n",
       "  <th>days_since_01_01_2011</th> <td>    5.0197</td> <td>    0.193</td> <td>   26.073</td> <td> 0.000</td> <td>    4.642</td> <td>    5.398</td>\n",
       "</tr>\n",
       "<tr>\n",
       "  <th>workingday</th>            <td>  145.4091</td> <td>   86.511</td> <td>    1.681</td> <td> 0.093</td> <td>  -24.432</td> <td>  315.250</td>\n",
       "</tr>\n",
       "</table>\n",
       "<table class=\"simpletable\">\n",
       "<tr>\n",
       "  <th>Omnibus:</th>       <td>115.305</td> <th>  Durbin-Watson:     </th> <td>   0.901</td>\n",
       "</tr>\n",
       "<tr>\n",
       "  <th>Prob(Omnibus):</th> <td> 0.000</td>  <th>  Jarque-Bera (JB):  </th> <td> 243.326</td>\n",
       "</tr>\n",
       "<tr>\n",
       "  <th>Skew:</th>          <td>-0.887</td>  <th>  Prob(JB):          </th> <td>1.45e-53</td>\n",
       "</tr>\n",
       "<tr>\n",
       "  <th>Kurtosis:</th>      <td> 5.200</td>  <th>  Cond. No.          </th> <td>1.25e+03</td>\n",
       "</tr>\n",
       "</table><br/><br/>Notes:<br/>[1] Standard Errors assume that the covariance matrix of the errors is correctly specified.<br/>[2] The condition number is large, 1.25e+03. This might indicate that there are<br/>strong multicollinearity or other numerical problems."
      ],
      "text/latex": [
       "\\begin{center}\n",
       "\\begin{tabular}{lclc}\n",
       "\\toprule\n",
       "\\textbf{Dep. Variable:}            &       cnt        & \\textbf{  R-squared:         } &     0.687   \\\\\n",
       "\\textbf{Model:}                    &       OLS        & \\textbf{  Adj. R-squared:    } &     0.686   \\\\\n",
       "\\textbf{Method:}                   &  Least Squares   & \\textbf{  F-statistic:       } &     532.2   \\\\\n",
       "\\textbf{Date:}                     & Wed, 10 May 2023 & \\textbf{  Prob (F-statistic):} & 6.71e-183   \\\\\n",
       "\\textbf{Time:}                     &     22:23:43     & \\textbf{  Log-Likelihood:    } &   -6145.0   \\\\\n",
       "\\textbf{No. Observations:}         &         731      & \\textbf{  AIC:               } & 1.230e+04   \\\\\n",
       "\\textbf{Df Residuals:}             &         727      & \\textbf{  BIC:               } & 1.232e+04   \\\\\n",
       "\\textbf{Df Model:}                 &           3      & \\textbf{                     } &             \\\\\n",
       "\\textbf{Covariance Type:}          &    nonrobust     & \\textbf{                     } &             \\\\\n",
       "\\bottomrule\n",
       "\\end{tabular}\n",
       "\\begin{tabular}{lcccccc}\n",
       "                                   & \\textbf{coef} & \\textbf{std err} & \\textbf{t} & \\textbf{P$> |$t$|$} & \\textbf{[0.025} & \\textbf{0.975]}  \\\\\n",
       "\\midrule\n",
       "\\textbf{Intercept}                 &    2572.6835  &      100.777     &    25.528  &         0.000        &     2374.835    &     2770.532     \\\\\n",
       "\\textbf{temp}                      &    1052.4113  &       40.712     &    25.850  &         0.000        &      972.485    &     1132.338     \\\\\n",
       "\\textbf{days\\_since\\_01\\_01\\_2011} &       5.0197  &        0.193     &    26.073  &         0.000        &        4.642    &        5.398     \\\\\n",
       "\\textbf{workingday}                &     145.4091  &       86.511     &     1.681  &         0.093        &      -24.432    &      315.250     \\\\\n",
       "\\bottomrule\n",
       "\\end{tabular}\n",
       "\\begin{tabular}{lclc}\n",
       "\\textbf{Omnibus:}       & 115.305 & \\textbf{  Durbin-Watson:     } &    0.901  \\\\\n",
       "\\textbf{Prob(Omnibus):} &   0.000 & \\textbf{  Jarque-Bera (JB):  } &  243.326  \\\\\n",
       "\\textbf{Skew:}          &  -0.887 & \\textbf{  Prob(JB):          } & 1.45e-53  \\\\\n",
       "\\textbf{Kurtosis:}      &   5.200 & \\textbf{  Cond. No.          } & 1.25e+03  \\\\\n",
       "\\bottomrule\n",
       "\\end{tabular}\n",
       "%\\caption{OLS Regression Results}\n",
       "\\end{center}\n",
       "\n",
       "Notes: \\newline\n",
       " [1] Standard Errors assume that the covariance matrix of the errors is correctly specified. \\newline\n",
       " [2] The condition number is large, 1.25e+03. This might indicate that there are \\newline\n",
       " strong multicollinearity or other numerical problems."
      ],
      "text/plain": [
       "<class 'statsmodels.iolib.summary.Summary'>\n",
       "\"\"\"\n",
       "                            OLS Regression Results                            \n",
       "==============================================================================\n",
       "Dep. Variable:                    cnt   R-squared:                       0.687\n",
       "Model:                            OLS   Adj. R-squared:                  0.686\n",
       "Method:                 Least Squares   F-statistic:                     532.2\n",
       "Date:                Wed, 10 May 2023   Prob (F-statistic):          6.71e-183\n",
       "Time:                        22:23:43   Log-Likelihood:                -6145.0\n",
       "No. Observations:                 731   AIC:                         1.230e+04\n",
       "Df Residuals:                     727   BIC:                         1.232e+04\n",
       "Df Model:                           3                                         \n",
       "Covariance Type:            nonrobust                                         \n",
       "=========================================================================================\n",
       "                            coef    std err          t      P>|t|      [0.025      0.975]\n",
       "-----------------------------------------------------------------------------------------\n",
       "Intercept              2572.6835    100.777     25.528      0.000    2374.835    2770.532\n",
       "temp                   1052.4113     40.712     25.850      0.000     972.485    1132.338\n",
       "days_since_01_01_2011     5.0197      0.193     26.073      0.000       4.642       5.398\n",
       "workingday              145.4091     86.511      1.681      0.093     -24.432     315.250\n",
       "==============================================================================\n",
       "Omnibus:                      115.305   Durbin-Watson:                   0.901\n",
       "Prob(Omnibus):                  0.000   Jarque-Bera (JB):              243.326\n",
       "Skew:                          -0.887   Prob(JB):                     1.45e-53\n",
       "Kurtosis:                       5.200   Cond. No.                     1.25e+03\n",
       "==============================================================================\n",
       "\n",
       "Notes:\n",
       "[1] Standard Errors assume that the covariance matrix of the errors is correctly specified.\n",
       "[2] The condition number is large, 1.25e+03. This might indicate that there are\n",
       "strong multicollinearity or other numerical problems.\n",
       "\"\"\""
      ]
     },
     "execution_count": 30,
     "metadata": {},
     "output_type": "execute_result"
    }
   ],
   "source": [
    "results.summary()"
   ]
  },
  {
   "cell_type": "markdown",
   "metadata": {
    "tags": []
   },
   "source": [
    "### 1.2.3 Encoding categorical features"
   ]
  },
  {
   "cell_type": "code",
   "execution_count": 31,
   "metadata": {
    "tags": []
   },
   "outputs": [
    {
     "data": {
      "text/plain": [
       "Index(['season', 'yr', 'mnth', 'holiday', 'weekday', 'workingday',\n",
       "       'weathersit', 'temp', 'hum', 'windspeed', 'casual', 'registered', 'cnt',\n",
       "       'days_since_01_01_2011'],\n",
       "      dtype='object')"
      ]
     },
     "execution_count": 31,
     "metadata": {},
     "output_type": "execute_result"
    }
   ],
   "source": [
    "bike_data.df.columns"
   ]
  },
  {
   "cell_type": "code",
   "execution_count": 32,
   "metadata": {
    "tags": []
   },
   "outputs": [],
   "source": [
    "def winter(season):\n",
    "    return (season==1).astype(int)\n",
    "\n",
    "def spring(season):\n",
    "    return (season==2).astype(int)\n",
    "\n",
    "def summer(season):\n",
    "    return (season==3).astype(int)"
   ]
  },
  {
   "cell_type": "code",
   "execution_count": 33,
   "metadata": {
    "tags": []
   },
   "outputs": [
    {
     "name": "stdout",
     "output_type": "stream",
     "text": [
      "FeatureModel(cnt ~ 1 + temp + days_since_01_01_2011 + workingday + winter(season) )\n",
      "FeatureModel(cnt ~ 1 + temp + days_since_01_01_2011 + workingday + winter(season) + spring(season) )\n",
      "FeatureModel(cnt ~ 1 + temp + days_since_01_01_2011 + workingday + winter(season) + spring(season) + summer(season) )\n"
     ]
    }
   ],
   "source": [
    "bike_data.add_function_feature(winter, \"season\")\n",
    "bike_data.add_function_feature(spring, \"season\")\n",
    "bike_data.add_function_feature(summer, \"season\")"
   ]
  },
  {
   "cell_type": "code",
   "execution_count": 34,
   "metadata": {
    "tags": []
   },
   "outputs": [],
   "source": [
    "X, y = bike_data.return_Xy()"
   ]
  },
  {
   "cell_type": "code",
   "execution_count": 35,
   "metadata": {
    "tags": []
   },
   "outputs": [
    {
     "data": {
      "text/html": [
       "<div>\n",
       "<style scoped>\n",
       "    .dataframe tbody tr th:only-of-type {\n",
       "        vertical-align: middle;\n",
       "    }\n",
       "\n",
       "    .dataframe tbody tr th {\n",
       "        vertical-align: top;\n",
       "    }\n",
       "\n",
       "    .dataframe thead th {\n",
       "        text-align: right;\n",
       "    }\n",
       "</style>\n",
       "<table border=\"1\" class=\"dataframe\">\n",
       "  <thead>\n",
       "    <tr style=\"text-align: right;\">\n",
       "      <th></th>\n",
       "      <th>Intercept</th>\n",
       "      <th>temp</th>\n",
       "      <th>days_since_01_01_2011</th>\n",
       "      <th>workingday</th>\n",
       "      <th>winter(season)</th>\n",
       "      <th>spring(season)</th>\n",
       "      <th>summer(season)</th>\n",
       "    </tr>\n",
       "  </thead>\n",
       "  <tbody>\n",
       "    <tr>\n",
       "      <th>0</th>\n",
       "      <td>1.0</td>\n",
       "      <td>8.175849</td>\n",
       "      <td>0.0</td>\n",
       "      <td>0.0</td>\n",
       "      <td>1.0</td>\n",
       "      <td>0.0</td>\n",
       "      <td>0.0</td>\n",
       "    </tr>\n",
       "    <tr>\n",
       "      <th>1</th>\n",
       "      <td>1.0</td>\n",
       "      <td>9.083466</td>\n",
       "      <td>1.0</td>\n",
       "      <td>0.0</td>\n",
       "      <td>1.0</td>\n",
       "      <td>0.0</td>\n",
       "      <td>0.0</td>\n",
       "    </tr>\n",
       "    <tr>\n",
       "      <th>2</th>\n",
       "      <td>1.0</td>\n",
       "      <td>1.229108</td>\n",
       "      <td>2.0</td>\n",
       "      <td>1.0</td>\n",
       "      <td>1.0</td>\n",
       "      <td>0.0</td>\n",
       "      <td>0.0</td>\n",
       "    </tr>\n",
       "    <tr>\n",
       "      <th>3</th>\n",
       "      <td>1.0</td>\n",
       "      <td>1.400000</td>\n",
       "      <td>3.0</td>\n",
       "      <td>1.0</td>\n",
       "      <td>1.0</td>\n",
       "      <td>0.0</td>\n",
       "      <td>0.0</td>\n",
       "    </tr>\n",
       "    <tr>\n",
       "      <th>4</th>\n",
       "      <td>1.0</td>\n",
       "      <td>2.666979</td>\n",
       "      <td>4.0</td>\n",
       "      <td>1.0</td>\n",
       "      <td>1.0</td>\n",
       "      <td>0.0</td>\n",
       "      <td>0.0</td>\n",
       "    </tr>\n",
       "    <tr>\n",
       "      <th>...</th>\n",
       "      <td>...</td>\n",
       "      <td>...</td>\n",
       "      <td>...</td>\n",
       "      <td>...</td>\n",
       "      <td>...</td>\n",
       "      <td>...</td>\n",
       "      <td>...</td>\n",
       "    </tr>\n",
       "    <tr>\n",
       "      <th>726</th>\n",
       "      <td>1.0</td>\n",
       "      <td>3.945849</td>\n",
       "      <td>726.0</td>\n",
       "      <td>1.0</td>\n",
       "      <td>1.0</td>\n",
       "      <td>0.0</td>\n",
       "      <td>0.0</td>\n",
       "    </tr>\n",
       "    <tr>\n",
       "      <th>727</th>\n",
       "      <td>1.0</td>\n",
       "      <td>3.906651</td>\n",
       "      <td>727.0</td>\n",
       "      <td>1.0</td>\n",
       "      <td>1.0</td>\n",
       "      <td>0.0</td>\n",
       "      <td>0.0</td>\n",
       "    </tr>\n",
       "    <tr>\n",
       "      <th>728</th>\n",
       "      <td>1.0</td>\n",
       "      <td>3.906651</td>\n",
       "      <td>728.0</td>\n",
       "      <td>0.0</td>\n",
       "      <td>1.0</td>\n",
       "      <td>0.0</td>\n",
       "      <td>0.0</td>\n",
       "    </tr>\n",
       "    <tr>\n",
       "      <th>729</th>\n",
       "      <td>1.0</td>\n",
       "      <td>4.024151</td>\n",
       "      <td>729.0</td>\n",
       "      <td>0.0</td>\n",
       "      <td>1.0</td>\n",
       "      <td>0.0</td>\n",
       "      <td>0.0</td>\n",
       "    </tr>\n",
       "    <tr>\n",
       "      <th>730</th>\n",
       "      <td>1.0</td>\n",
       "      <td>2.144151</td>\n",
       "      <td>730.0</td>\n",
       "      <td>1.0</td>\n",
       "      <td>1.0</td>\n",
       "      <td>0.0</td>\n",
       "      <td>0.0</td>\n",
       "    </tr>\n",
       "  </tbody>\n",
       "</table>\n",
       "<p>731 rows × 7 columns</p>\n",
       "</div>"
      ],
      "text/plain": [
       "     Intercept      temp  days_since_01_01_2011  workingday  winter(season)  \\\n",
       "0          1.0  8.175849                    0.0         0.0             1.0   \n",
       "1          1.0  9.083466                    1.0         0.0             1.0   \n",
       "2          1.0  1.229108                    2.0         1.0             1.0   \n",
       "3          1.0  1.400000                    3.0         1.0             1.0   \n",
       "4          1.0  2.666979                    4.0         1.0             1.0   \n",
       "..         ...       ...                    ...         ...             ...   \n",
       "726        1.0  3.945849                  726.0         1.0             1.0   \n",
       "727        1.0  3.906651                  727.0         1.0             1.0   \n",
       "728        1.0  3.906651                  728.0         0.0             1.0   \n",
       "729        1.0  4.024151                  729.0         0.0             1.0   \n",
       "730        1.0  2.144151                  730.0         1.0             1.0   \n",
       "\n",
       "     spring(season)  summer(season)  \n",
       "0               0.0             0.0  \n",
       "1               0.0             0.0  \n",
       "2               0.0             0.0  \n",
       "3               0.0             0.0  \n",
       "4               0.0             0.0  \n",
       "..              ...             ...  \n",
       "726             0.0             0.0  \n",
       "727             0.0             0.0  \n",
       "728             0.0             0.0  \n",
       "729             0.0             0.0  \n",
       "730             0.0             0.0  \n",
       "\n",
       "[731 rows x 7 columns]"
      ]
     },
     "execution_count": 35,
     "metadata": {},
     "output_type": "execute_result"
    }
   ],
   "source": [
    "X"
   ]
  },
  {
   "cell_type": "markdown",
   "metadata": {},
   "source": [
    "Q: Why do you not need a fourth category for season=fall? Hint: Think about what the intercept term now means / for what category it stands for"
   ]
  },
  {
   "cell_type": "code",
   "execution_count": 36,
   "metadata": {
    "tags": []
   },
   "outputs": [
    {
     "name": "stderr",
     "output_type": "stream",
     "text": [
      "C:\\Users\\sujit\\miniconda3\\envs\\xML\\lib\\site-packages\\numpy\\lib\\function_base.py:2854: RuntimeWarning: invalid value encountered in divide\n",
      "  c /= stddev[:, None]\n",
      "C:\\Users\\sujit\\miniconda3\\envs\\xML\\lib\\site-packages\\numpy\\lib\\function_base.py:2855: RuntimeWarning: invalid value encountered in divide\n",
      "  c /= stddev[None, :]\n"
     ]
    },
    {
     "data": {
      "image/png": "[encoded data removed]",
      "text/plain": [
       "<Figure size 1200x1000 with 2 Axes>"
      ]
     },
     "metadata": {},
     "output_type": "display_data"
    }
   ],
   "source": [
    "correlation_heatmap(X)"
   ]
  },
  {
   "cell_type": "code",
   "execution_count": 37,
   "metadata": {
    "tags": []
   },
   "outputs": [],
   "source": [
    "from sklearn.linear_model import Lasso"
   ]
  },
  {
   "cell_type": "code",
   "execution_count": 38,
   "metadata": {
    "tags": []
   },
   "outputs": [],
   "source": [
    "clf = Lasso(random_state=1, fit_intercept=False, alpha=1.0)"
   ]
  },
  {
   "cell_type": "code",
   "execution_count": 39,
   "metadata": {
    "tags": []
   },
   "outputs": [
    {
     "data": {
      "text/plain": [
       "Lasso(fit_intercept=False, random_state=1)"
      ]
     },
     "execution_count": 39,
     "metadata": {},
     "output_type": "execute_result"
    }
   ],
   "source": [
    "clf.fit(X, y)"
   ]
  },
  {
   "cell_type": "code",
   "execution_count": 40,
   "metadata": {
    "tags": []
   },
   "outputs": [
    {
     "data": {
      "text/plain": [
       "Index(['Intercept', 'temp', 'days_since_01_01_2011', 'workingday',\n",
       "       'winter(season)', 'spring(season)', 'summer(season)'],\n",
       "      dtype='object')"
      ]
     },
     "execution_count": 40,
     "metadata": {},
     "output_type": "execute_result"
    }
   ],
   "source": [
    "X.columns"
   ]
  },
  {
   "cell_type": "code",
   "execution_count": 41,
   "metadata": {
    "tags": []
   },
   "outputs": [
    {
     "data": {
      "text/plain": [
       "array([ 743.12515208,  113.83566909,    5.14109055,  140.43382115,\n",
       "       -255.75223162,  564.62236554, -120.06061631])"
      ]
     },
     "execution_count": 41,
     "metadata": {},
     "output_type": "execute_result"
    }
   ],
   "source": [
    "clf.coef_"
   ]
  },
  {
   "cell_type": "markdown",
   "metadata": {},
   "source": [
    "Q: Look at the coefficient of the `is_summer` feature, can you interpret it as: **compared to `is_fall` people tend to rent 120 bikes less**? Why is that problematic? Hint: What is high in the summer?"
   ]
  },
  {
   "cell_type": "markdown",
   "metadata": {},
   "source": [
    "# Homework"
   ]
  },
  {
   "cell_type": "markdown",
   "metadata": {
    "tags": []
   },
   "source": [
    "## 1.1 \n",
    "Create a function that receives a boolean `standardize` and returns a tuple `X,y` where\n",
    "- y: is the number of rented bikes for a day\n",
    "- X: is the temperature of that day, the windspeed, the days since 01.01.2011, and the humidity. Finally, there should also be an intercept term. Make sure to add them in this order.\n",
    "- If `standardize` is `True`, then the temperature, windspeed, days since 01.01.2011 and the humidity should be standardized (but not the intercept or the target variable)"
   ]
  },
  {
   "cell_type": "code",
   "execution_count": 149,
   "metadata": {
    "tags": []
   },
   "outputs": [
    {
     "data": {
      "text/plain": [
       "Index(['season', 'yr', 'mnth', 'holiday', 'weekday', 'workingday',\n",
       "       'weathersit', 'temp', 'hum', 'windspeed', 'casual', 'registered', 'cnt',\n",
       "       'days_since_01_01_2011'],\n",
       "      dtype='object')"
      ]
     },
     "execution_count": 149,
     "metadata": {},
     "output_type": "execute_result"
    }
   ],
   "source": [
    "bike_data.df.columns"
   ]
  },
  {
   "cell_type": "code",
   "execution_count": 150,
   "metadata": {
    "tags": []
   },
   "outputs": [],
   "source": [
    "def ex_1_1(standardize: bool) -> tuple[np.array, np.array]:\n",
    "    \n",
    "    with contextlib.redirect_stdout(None):\n",
    "        # in here nothing gets printed\n",
    "        bike_data = FeatureModel(\"datasets/bike/rented_bikes_day_pre.csv\")\n",
    "        \n",
    "        # TODO\n",
    "        bike_data.add_target(\"cnt\")\n",
    "        bike_data.intercept = True\n",
    "        \n",
    "        feature_cols = [\"temp\", \"windspeed\", \"days_since_01_01_2011\", \"hum\"]\n",
    "        for col in feature_cols:\n",
    "            bike_data.add_feature(col)\n",
    "        \n",
    "    def standardize_fun(df):\n",
    "        from sklearn.preprocessing import StandardScaler\n",
    "        \n",
    "        #TODO\n",
    "        scaler = StandardScaler()\n",
    "        df[feature_cols] = scaler.fit_transform(df[feature_cols])\n",
    "        return df\n",
    "    \n",
    "    return bike_data.return_Xy(transform_before=standardize_fun if standardize else None)"
   ]
  },
  {
   "cell_type": "code",
   "execution_count": 152,
   "metadata": {
    "tags": []
   },
   "outputs": [
    {
     "name": "stdout",
     "output_type": "stream",
     "text": [
      "Great work!\n"
     ]
    }
   ],
   "source": [
    "# ex_1_1(True)\n",
    "compare(\"ex_1_1\", ex_1_1)"
   ]
  },
  {
   "cell_type": "markdown",
   "metadata": {
    "tags": []
   },
   "source": [
    "## 1.2\n",
    "Create a function that excepts the L1-regularisation parameter `alpha` and a boolean `standardize` and fits a `Lasso`-Regressor with `random_state`=1 and `fit_intercept`=False on the, depending on the input, **standardized** dataset of `ex_1_1`. It should return the number of rescale-R2-score where the number of features is equal to the number of non-zero weights. You can find the required formula on page 40 of the interpretable ML book (https://christophm.github.io/interpretable-ml-book/interpretable-ml.pdf).\n",
    "\n",
    "You may re-use the function `ex_1_1` inside `ex_1_2`.\n",
    "\n",
    "Bonus (technical programming stuff): Why might it be beneficial to import `Lasso` **inside** the function, and also define everything you need **inside** that function? "
   ]
  },
  {
   "cell_type": "code",
   "execution_count": 157,
   "metadata": {
    "tags": []
   },
   "outputs": [],
   "source": [
    "def ex_1_2(alpha: float, standardize: bool) -> (float, np.array):\n",
    "    \n",
    "    import numpy as np \n",
    "    from sklearn.linear_model import Lasso\n",
    "    from sklearn.metrics import r2_score\n",
    "    \n",
    "    X, y = ex_1_1(standardize)\n",
    "    \n",
    "    def scaled_r2_score(ytrue, ypred, p, n):\n",
    "        #TODO\n",
    "        r2 = r2_score(ytrue, ypred) # calculate the R^2 score\n",
    "        return 1 - (1-r2) * ((n-1)/(n-p-1)) # calculate adjusted R^2 score\n",
    "    \n",
    "    #TODO\n",
    "    lasso = Lasso(alpha=alpha, random_state=1, fit_intercept=False)\n",
    "    lasso.fit(X, y)\n",
    "    \n",
    "    ypred = lasso.predict(X) # calculate the y_predicted\n",
    "    p = np.sum(lasso.coef_ != 0) # p = number of features or number of non-zero weights\n",
    "    n = len(y) # number of datapoints\n",
    "    coef = lasso.coef_\n",
    "\n",
    "    return scaled_r2_score(y, ypred, p, n), coef"
   ]
  },
  {
   "cell_type": "code",
   "execution_count": 159,
   "metadata": {
    "tags": []
   },
   "outputs": [
    {
     "name": "stdout",
     "output_type": "stream",
     "text": [
      "Great work!\n"
     ]
    }
   ],
   "source": [
    "# ex_1_2(0.6, True)\n",
    "compare(\"ex_1_2\", ex_1_2)"
   ]
  },
  {
   "cell_type": "code",
   "execution_count": 160,
   "metadata": {
    "tags": []
   },
   "outputs": [
    {
     "data": {
      "image/png": "[encoded data removed]",
      "text/plain": [
       "<Figure size 1000x1000 with 1 Axes>"
      ]
     },
     "metadata": {},
     "output_type": "display_data"
    }
   ],
   "source": [
    "def create_lasso_regularisation_plot(ex_1_2):\n",
    "    alphas = np.logspace(0, 5, 100)\n",
    "    \n",
    "    X, y = ex_1_1(True)\n",
    "    ex_1_2_out = list(map(lambda a: list(ex_1_2(a, True)), alphas))\n",
    "    \n",
    "    fig = plt.figure(figsize=(10,10))\n",
    "    ax = plt.gca()\n",
    "    ax.set_xscale('log')\n",
    "\n",
    "    for i,feature_name in enumerate(X.columns):\n",
    "        plt.plot(alphas, [ex_1_2_out[a][1][i] for a in range(len(alphas))], label=feature_name)\n",
    "\n",
    "    plt.legend()\n",
    "    plt.xlabel(\"Log-Lambda\")\n",
    "    plt.ylabel(\"Weights\")\n",
    "    return \n",
    "\n",
    "#TODO: uncomment this\n",
    "create_lasso_regularisation_plot(ex_1_2)"
   ]
  },
  {
   "cell_type": "code",
   "execution_count": 161,
   "metadata": {
    "tags": []
   },
   "outputs": [
    {
     "data": {
      "image/png": "[encoded data removed]",
      "text/plain": [
       "<Figure size 640x480 with 1 Axes>"
      ]
     },
     "metadata": {},
     "output_type": "display_data"
    }
   ],
   "source": [
    "def create_r2_score_plot(ex_1_2):\n",
    "    alphas = np.logspace(0, 5, 100)\n",
    "    \n",
    "    ex_1_2_out = list(map(lambda a: list(ex_1_2(a, True)), alphas))\n",
    "    plt.plot(alphas, [ex_1_2_out[a][0] for a in range(len(alphas))], label=\"r2-score\")\n",
    "    ax = plt.gca()\n",
    "    ax.set_xscale('log')\n",
    "    plt.legend()\n",
    "    plt.xlabel(\"Log-Lambda\")\n",
    "    \n",
    "#TODO: uncomment this\n",
    "create_r2_score_plot(ex_1_2)"
   ]
  },
  {
   "cell_type": "markdown",
   "metadata": {},
   "source": [
    "Q: What does the r2-score tell you if it passes the x-axis, i.e. if it becomes lower than zero?"
   ]
  },
  {
   "cell_type": "markdown",
   "metadata": {
    "tags": []
   },
   "source": [
    "## 1.3 \n",
    "\n",
    "Use the function `naive_effect_plot` to generate an effect plot of the Lasso-Algorithm with `alpha`=1.0 and `random_state`=1 and trained on the **not standardized** dataset from exercise `1_1`.\n",
    "Where in this effect plot would the datapoint with the lowest rented bikes and the highest rented bikes lie? What is the feature in which these two datapoins differ the most? \n",
    "Write a function that returns the effect difference between these two data points for this feature."
   ]
  },
  {
   "cell_type": "code",
   "execution_count": 163,
   "metadata": {
    "tags": []
   },
   "outputs": [],
   "source": [
    "import copy\n",
    "def naive_effect_plot(X, y, coef):\n",
    "    \"\"\"\n",
    "    Make sure that X is *not* standardized. This would defeat the purpose of an effect plot!\n",
    "    \"\"\"\n",
    "    \n",
    "    Xmean = X.mean(axis=0)\n",
    "    Xstd = X.std(axis=0)\n",
    "    vary_features = {}\n",
    "    \n",
    "    steps=3\n",
    "    for col in X.columns:\n",
    "        X_grid = []\n",
    "        for a in np.linspace(-1,1,steps):\n",
    "            Xtemp = copy.copy(Xmean)\n",
    "            Xtemp[:] = 0\n",
    "            Xtemp[col] = Xmean[col]+a*Xstd[col]\n",
    "            X_grid.append(Xtemp)\n",
    "        # prediction + intercept\n",
    "        y_grid = np.dot(np.array(X_grid), coef)\n",
    "        vary_features.update({col: y_grid})\n",
    "    \n",
    "    pd.DataFrame(vary_features).boxplot(vert=False)\n",
    "    plt.xlabel(y.columns[0])\n",
    "    plt.ylabel(\"features\")\n",
    "    plt.show()\n"
   ]
  },
  {
   "cell_type": "code",
   "execution_count": 164,
   "metadata": {
    "tags": []
   },
   "outputs": [],
   "source": [
    "#TODO: uncomment this\n",
    "#X, y = ex_1_1(False)\n",
    "#_, coef = ex_1_2(1.0, False)\n",
    "\n",
    "#naive_effect_plot(X, y, coef)"
   ]
  },
  {
   "cell_type": "code",
   "execution_count": 165,
   "metadata": {
    "tags": []
   },
   "outputs": [],
   "source": [
    "def ex_1_3() -> float:\n",
    "    X, y = ex_1_1(False)\n",
    "    _, coef = ex_1_2(1.0, False)\n",
    "    \n",
    "    #TODO\n",
    "    Xmin = X.loc[0]\n",
    "    Xmax = X.loc[0]\n",
    "    \n",
    "    #TODO\n",
    "    return 2.0"
   ]
  },
  {
   "cell_type": "code",
   "execution_count": 166,
   "metadata": {
    "tags": []
   },
   "outputs": [
    {
     "name": "stdout",
     "output_type": "stream",
     "text": [
      "The provided function `<function ex_1_3 at 0x000001E835AA60D0>` does either not take the required inputs OR does not produce the right outputs OR your environment does not have all files/packages in order..\n"
     ]
    }
   ],
   "source": [
    "compare(\"ex_1_3\", ex_1_3)"
   ]
  },
  {
   "cell_type": "code",
   "execution_count": 167,
   "metadata": {
    "tags": []
   },
   "outputs": [],
   "source": [
    "#TODO: uncomment this\n",
    "#ex_1_3()"
   ]
  },
  {
   "cell_type": "markdown",
   "metadata": {},
   "source": [
    "Q: What did you think was going on that day? How could you check? What other features are there that we haven't used?"
   ]
  },
  {
   "cell_type": "markdown",
   "metadata": {
    "tags": []
   },
   "source": [
    "## 1.4\n",
    "\n",
    "Maybe people care less about temperature if they have to get to work and rent a bike regardless. How can we check that? -> By adding an interaction feature between `temp` and `workingday`\n",
    "\n",
    "First, make a new dataset `cnt ~ 1 + temp + workingday + interaction(temp, workingday)`. No standardisation of the temperature feature!\n",
    "\n",
    "Your interaction function should have the effect that your linear model can fit two different weights/slopes for the temperature feature depending on whether or not the day was a workingday.\n",
    "\n",
    "Then write a function that fits a simple Linear Regression model (not LASSO!) on the dataset and outputs a tuple of floats where the first is the increase of number of rented bikes per degree if workingday, and the second float is the increase of number of rented bikes per degree if not a working day"
   ]
  },
  {
   "cell_type": "code",
   "execution_count": 168,
   "metadata": {
    "tags": []
   },
   "outputs": [],
   "source": [
    "def ex_1_4() -> tuple[float, float]:\n",
    "    \n",
    "    # TODO\n",
    "    def interaction(temp, workingday):\n",
    "        pass\n",
    "    \n",
    "    bike_data = FeatureModel(\"datasets/bike/rented_bikes_day_pre.csv\")\n",
    "    # TODO\n",
    "    \n",
    "    from sklearn.linear_model import LinearRegression\n",
    "    model = LinearRegression(fit_intercept=False)\n",
    "    model.fit(X,y)\n",
    "    coef = model.coef_[0]\n",
    "    w_temp = coef[1]\n",
    "    w_temp_and_workingday = coef[3]\n",
    "    # TODO\n",
    "    return 100, 100"
   ]
  },
  {
   "cell_type": "code",
   "execution_count": 169,
   "metadata": {
    "tags": []
   },
   "outputs": [
    {
     "name": "stdout",
     "output_type": "stream",
     "text": [
      "Your function does interface but there is some mistake here in your function(/logic) .. \n"
     ]
    }
   ],
   "source": [
    "compare(\"ex_1_4\", ex_1_4)"
   ]
  },
  {
   "cell_type": "code",
   "execution_count": 170,
   "metadata": {
    "tags": []
   },
   "outputs": [],
   "source": [
    "w_of_temp_if_is_workingday, w_of_temp_if_isnt_workingday = ex_1_4()"
   ]
  },
  {
   "cell_type": "code",
   "execution_count": 171,
   "metadata": {
    "tags": []
   },
   "outputs": [
    {
     "data": {
      "image/png": "[encoded data removed]",
      "text/plain": [
       "<Figure size 640x480 with 1 Axes>"
      ]
     },
     "metadata": {},
     "output_type": "display_data"
    }
   ],
   "source": [
    "temps = np.linspace(-5, 30, 100)\n",
    "plt.plot(temps, w_of_temp_if_is_workingday*temps, label=\"is workingday\")\n",
    "plt.plot(temps, w_of_temp_if_isnt_workingday*temps, label=\"is not workingday\")\n",
    "plt.legend()\n",
    "plt.show()"
   ]
  },
  {
   "cell_type": "markdown",
   "metadata": {
    "tags": []
   },
   "source": [
    "## 1.5\n",
    "Up to this point we have only considered modeling a linear dependence for the target variable of the temperature feature. It seems more natural that this effect saturates at higher temperatures (people find it too warm to ride a bike). Let's try to capture this by expanding up our one temperature feature into many different features using smooth basis functions. This class of model is called a linear additive model.\n",
    "\n",
    "Write a function that as input takes the scale parameter `s` and a list of floats called `centers` and then it first creates the following dataset `cnt ~ 1 + temp  + gaussian(temp,centers[0],s) + gaussian(temp,centers[1],s) + ... + gaussian(temp,centers[-1],s)` where the function `gaussian` is given by \n",
    "$$g(t, c, s) = \\exp({-\\frac{(t-c)^2}{s^2}})$$\n",
    "and where the center and scale parameter $s$ are given by the function input.\n",
    "\n",
    "Then, the function should fit a Linear Regression and return the coefficients/weights."
   ]
  },
  {
   "cell_type": "code",
   "execution_count": 172,
   "metadata": {
    "tags": []
   },
   "outputs": [],
   "source": [
    "def ex_1_5(centers: list[float], scale: float) -> np.ndarray:\n",
    "    # we just make this function global so that we can re-use it out of scope (without passing it)\n",
    "    global gaussian\n",
    "    def gaussian(temp, center, scale=scale):\n",
    "        #TODO\n",
    "        pass\n",
    "\n",
    "    bike_data = FeatureModel(\"datasets/bike/rented_bikes_day_pre.csv\")\n",
    "    #TODO\n",
    "    \n",
    "    from sklearn.linear_model import LinearRegression\n",
    "    model = LinearRegression(fit_intercept=False)\n",
    "    #TODO\n"
   ]
  },
  {
   "cell_type": "code",
   "execution_count": 173,
   "metadata": {
    "tags": []
   },
   "outputs": [
    {
     "name": "stdout",
     "output_type": "stream",
     "text": [
      "The provided function `<function ex_1_5 at 0x000001E836879040>` does either not take the required inputs OR does not produce the right outputs OR your environment does not have all files/packages in order..\n"
     ]
    }
   ],
   "source": [
    "compare(\"ex_1_5\", ex_1_5)"
   ]
  },
  {
   "cell_type": "code",
   "execution_count": 174,
   "metadata": {
    "tags": []
   },
   "outputs": [],
   "source": [
    "def plot_temperature_dependence(coef, centers):\n",
    "    temps = np.linspace(-5, 30, 100)\n",
    "    gaussian_prediction = coef[:, 2:]@np.array(list(map(lambda center: gaussian(temps, center), centers)))\n",
    "    linear_prediction = coef[:, 1]*temps\n",
    "    intercept = coef[:, 0]\n",
    "    plt.plot(temps, gaussian_prediction[0]+linear_prediction+intercept)\n",
    "    plt.xlabel(\"Temperature [deg]\")\n",
    "    plt.ylabel(\"cnt\")"
   ]
  },
  {
   "cell_type": "code",
   "execution_count": 175,
   "metadata": {
    "tags": []
   },
   "outputs": [],
   "source": [
    "#TODO\n",
    "centers = []\n",
    "scale=5\n",
    "#TODO: uncomment this\n",
    "#plot_temperature_dependence(ex_1_5(centers, scale), centers)"
   ]
  },
  {
   "cell_type": "code",
   "execution_count": 176,
   "metadata": {
    "tags": []
   },
   "outputs": [
    {
     "data": {
      "text/plain": [
       "{'ex_1_4': False}"
      ]
     },
     "execution_count": 176,
     "metadata": {},
     "output_type": "execute_result"
    }
   ],
   "source": [
    "from ce1_compare import scores, grade\n",
    "scores"
   ]
  },
  {
   "cell_type": "code",
   "execution_count": 177,
   "metadata": {
    "tags": []
   },
   "outputs": [],
   "source": [
    "#TODO: run this\n",
    "write_submission_txt()"
   ]
  },
  {
   "cell_type": "code",
   "execution_count": 178,
   "metadata": {
    "tags": []
   },
   "outputs": [
    {
     "name": "stdout",
     "output_type": "stream",
     "text": [
      "Couldn't find your file..\n"
     ]
    }
   ],
   "source": [
    "grade(\"ce1_Sujit_Debnath.txt\")"
   ]
  }
 ],
 "metadata": {
  "interpreter": {
   "hash": "687d99c135f695afcc4493fdf91e16807faa4e221160a5d096775a6978e05562"
  },
  "kernelspec": {
   "display_name": "Python 3 (ipykernel)",
   "language": "python",
   "name": "python3"
  },
  "language_info": {
   "codemirror_mode": {
    "name": "ipython",
    "version": 3
   },
   "file_extension": ".py",
   "mimetype": "text/x-python",
   "name": "python",
   "nbconvert_exporter": "python",
   "pygments_lexer": "ipython3",
   "version": "3.9.15"
  }
 },
 "nbformat": 4,
 "nbformat_minor": 4
}
