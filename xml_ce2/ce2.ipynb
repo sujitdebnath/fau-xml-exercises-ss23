{
 "cells": [
  {
   "cell_type": "code",
   "execution_count": 1321,
   "metadata": {},
   "outputs": [],
   "source": [
    "import pandas as pd\n",
    "import patsy\n",
    "import numpy as np\n",
    "import matplotlib.pyplot as plt\n",
    "import seaborn as sns\n",
    "from feature_model import FeatureModel\n",
    "import contextlib"
   ]
  },
  {
   "cell_type": "code",
   "execution_count": 1322,
   "metadata": {},
   "outputs": [],
   "source": [
    "from ce2_compare import compare, set_name, write_submission_txt, set_idm"
   ]
  },
  {
   "cell_type": "code",
   "execution_count": 1323,
   "metadata": {},
   "outputs": [],
   "source": [
    "set_name(\"Sujit\", \"Debnath\")\n",
    "set_idm(\"ve75wiwa\")"
   ]
  },
  {
   "cell_type": "markdown",
   "metadata": {},
   "source": [
    "# CE2 (Inherently explainable models part 2)\n",
    "    - Taking a look at new data: The cervical cancer dataset\n",
    "    - Logistic regression\n",
    "    - Decision Trees \n",
    "    - RuleFit\n"
   ]
  },
  {
   "cell_type": "markdown",
   "metadata": {
    "tags": []
   },
   "source": [
    "## The cervical cancer dataset"
   ]
  },
  {
   "cell_type": "code",
   "execution_count": 1324,
   "metadata": {},
   "outputs": [],
   "source": [
    "cv_cancer_path = \"datasets/cervical_cancer/risk_factors_cervical_cancer_pre.csv\"\n",
    "cv_data = FeatureModel(cv_cancer_path)"
   ]
  },
  {
   "cell_type": "code",
   "execution_count": 1325,
   "metadata": {},
   "outputs": [
    {
     "data": {
      "text/html": [
       "<div>\n",
       "<style scoped>\n",
       "    .dataframe tbody tr th:only-of-type {\n",
       "        vertical-align: middle;\n",
       "    }\n",
       "\n",
       "    .dataframe tbody tr th {\n",
       "        vertical-align: top;\n",
       "    }\n",
       "\n",
       "    .dataframe thead th {\n",
       "        text-align: right;\n",
       "    }\n",
       "</style>\n",
       "<table border=\"1\" class=\"dataframe\">\n",
       "  <thead>\n",
       "    <tr style=\"text-align: right;\">\n",
       "      <th></th>\n",
       "      <th>Age</th>\n",
       "      <th>Number_of_sexual_partners</th>\n",
       "      <th>First_sexual_intercourse</th>\n",
       "      <th>Num_of_pregnancies</th>\n",
       "      <th>Smokes</th>\n",
       "      <th>Smokes__years</th>\n",
       "      <th>Hormonal_Contraceptives</th>\n",
       "      <th>Hormonal_Contraceptives__years</th>\n",
       "      <th>IUD</th>\n",
       "      <th>IUD__years</th>\n",
       "      <th>STDs</th>\n",
       "      <th>STDs__Number_of_diagnosis</th>\n",
       "      <th>STDs__Time_since_first_diagnosis</th>\n",
       "      <th>STDs__Time_since_last_diagnosis</th>\n",
       "      <th>Biopsy</th>\n",
       "    </tr>\n",
       "  </thead>\n",
       "  <tbody>\n",
       "    <tr>\n",
       "      <th>0</th>\n",
       "      <td>18.0</td>\n",
       "      <td>4.0</td>\n",
       "      <td>15.0</td>\n",
       "      <td>1.0</td>\n",
       "      <td>0.0</td>\n",
       "      <td>0.0</td>\n",
       "      <td>0.0</td>\n",
       "      <td>0.00</td>\n",
       "      <td>0.0</td>\n",
       "      <td>0.0</td>\n",
       "      <td>0.0</td>\n",
       "      <td>0.0</td>\n",
       "      <td>1.0</td>\n",
       "      <td>1.0</td>\n",
       "      <td>0.0</td>\n",
       "    </tr>\n",
       "    <tr>\n",
       "      <th>1</th>\n",
       "      <td>15.0</td>\n",
       "      <td>1.0</td>\n",
       "      <td>14.0</td>\n",
       "      <td>1.0</td>\n",
       "      <td>0.0</td>\n",
       "      <td>0.0</td>\n",
       "      <td>0.0</td>\n",
       "      <td>0.00</td>\n",
       "      <td>0.0</td>\n",
       "      <td>0.0</td>\n",
       "      <td>0.0</td>\n",
       "      <td>0.0</td>\n",
       "      <td>1.0</td>\n",
       "      <td>1.0</td>\n",
       "      <td>0.0</td>\n",
       "    </tr>\n",
       "    <tr>\n",
       "      <th>2</th>\n",
       "      <td>34.0</td>\n",
       "      <td>1.0</td>\n",
       "      <td>15.0</td>\n",
       "      <td>1.0</td>\n",
       "      <td>0.0</td>\n",
       "      <td>0.0</td>\n",
       "      <td>0.0</td>\n",
       "      <td>0.00</td>\n",
       "      <td>0.0</td>\n",
       "      <td>0.0</td>\n",
       "      <td>0.0</td>\n",
       "      <td>0.0</td>\n",
       "      <td>1.0</td>\n",
       "      <td>1.0</td>\n",
       "      <td>0.0</td>\n",
       "    </tr>\n",
       "    <tr>\n",
       "      <th>3</th>\n",
       "      <td>52.0</td>\n",
       "      <td>5.0</td>\n",
       "      <td>16.0</td>\n",
       "      <td>4.0</td>\n",
       "      <td>1.0</td>\n",
       "      <td>37.0</td>\n",
       "      <td>1.0</td>\n",
       "      <td>3.00</td>\n",
       "      <td>0.0</td>\n",
       "      <td>0.0</td>\n",
       "      <td>0.0</td>\n",
       "      <td>0.0</td>\n",
       "      <td>1.0</td>\n",
       "      <td>1.0</td>\n",
       "      <td>0.0</td>\n",
       "    </tr>\n",
       "    <tr>\n",
       "      <th>4</th>\n",
       "      <td>46.0</td>\n",
       "      <td>3.0</td>\n",
       "      <td>21.0</td>\n",
       "      <td>4.0</td>\n",
       "      <td>0.0</td>\n",
       "      <td>0.0</td>\n",
       "      <td>1.0</td>\n",
       "      <td>15.00</td>\n",
       "      <td>0.0</td>\n",
       "      <td>0.0</td>\n",
       "      <td>0.0</td>\n",
       "      <td>0.0</td>\n",
       "      <td>1.0</td>\n",
       "      <td>1.0</td>\n",
       "      <td>0.0</td>\n",
       "    </tr>\n",
       "    <tr>\n",
       "      <th>...</th>\n",
       "      <td>...</td>\n",
       "      <td>...</td>\n",
       "      <td>...</td>\n",
       "      <td>...</td>\n",
       "      <td>...</td>\n",
       "      <td>...</td>\n",
       "      <td>...</td>\n",
       "      <td>...</td>\n",
       "      <td>...</td>\n",
       "      <td>...</td>\n",
       "      <td>...</td>\n",
       "      <td>...</td>\n",
       "      <td>...</td>\n",
       "      <td>...</td>\n",
       "      <td>...</td>\n",
       "    </tr>\n",
       "    <tr>\n",
       "      <th>853</th>\n",
       "      <td>34.0</td>\n",
       "      <td>3.0</td>\n",
       "      <td>18.0</td>\n",
       "      <td>0.0</td>\n",
       "      <td>0.0</td>\n",
       "      <td>0.0</td>\n",
       "      <td>0.0</td>\n",
       "      <td>0.00</td>\n",
       "      <td>0.0</td>\n",
       "      <td>0.0</td>\n",
       "      <td>0.0</td>\n",
       "      <td>0.0</td>\n",
       "      <td>1.0</td>\n",
       "      <td>1.0</td>\n",
       "      <td>0.0</td>\n",
       "    </tr>\n",
       "    <tr>\n",
       "      <th>854</th>\n",
       "      <td>32.0</td>\n",
       "      <td>2.0</td>\n",
       "      <td>19.0</td>\n",
       "      <td>1.0</td>\n",
       "      <td>0.0</td>\n",
       "      <td>0.0</td>\n",
       "      <td>1.0</td>\n",
       "      <td>8.00</td>\n",
       "      <td>0.0</td>\n",
       "      <td>0.0</td>\n",
       "      <td>0.0</td>\n",
       "      <td>0.0</td>\n",
       "      <td>1.0</td>\n",
       "      <td>1.0</td>\n",
       "      <td>0.0</td>\n",
       "    </tr>\n",
       "    <tr>\n",
       "      <th>855</th>\n",
       "      <td>25.0</td>\n",
       "      <td>2.0</td>\n",
       "      <td>17.0</td>\n",
       "      <td>0.0</td>\n",
       "      <td>0.0</td>\n",
       "      <td>0.0</td>\n",
       "      <td>1.0</td>\n",
       "      <td>0.08</td>\n",
       "      <td>0.0</td>\n",
       "      <td>0.0</td>\n",
       "      <td>0.0</td>\n",
       "      <td>0.0</td>\n",
       "      <td>1.0</td>\n",
       "      <td>1.0</td>\n",
       "      <td>0.0</td>\n",
       "    </tr>\n",
       "    <tr>\n",
       "      <th>856</th>\n",
       "      <td>33.0</td>\n",
       "      <td>2.0</td>\n",
       "      <td>24.0</td>\n",
       "      <td>2.0</td>\n",
       "      <td>0.0</td>\n",
       "      <td>0.0</td>\n",
       "      <td>1.0</td>\n",
       "      <td>0.08</td>\n",
       "      <td>0.0</td>\n",
       "      <td>0.0</td>\n",
       "      <td>0.0</td>\n",
       "      <td>0.0</td>\n",
       "      <td>1.0</td>\n",
       "      <td>1.0</td>\n",
       "      <td>0.0</td>\n",
       "    </tr>\n",
       "    <tr>\n",
       "      <th>857</th>\n",
       "      <td>29.0</td>\n",
       "      <td>2.0</td>\n",
       "      <td>20.0</td>\n",
       "      <td>1.0</td>\n",
       "      <td>0.0</td>\n",
       "      <td>0.0</td>\n",
       "      <td>1.0</td>\n",
       "      <td>0.50</td>\n",
       "      <td>0.0</td>\n",
       "      <td>0.0</td>\n",
       "      <td>0.0</td>\n",
       "      <td>0.0</td>\n",
       "      <td>1.0</td>\n",
       "      <td>1.0</td>\n",
       "      <td>0.0</td>\n",
       "    </tr>\n",
       "  </tbody>\n",
       "</table>\n",
       "<p>858 rows × 15 columns</p>\n",
       "</div>"
      ],
      "text/plain": [
       "      Age  Number_of_sexual_partners  First_sexual_intercourse  \\\n",
       "0    18.0                        4.0                      15.0   \n",
       "1    15.0                        1.0                      14.0   \n",
       "2    34.0                        1.0                      15.0   \n",
       "3    52.0                        5.0                      16.0   \n",
       "4    46.0                        3.0                      21.0   \n",
       "..    ...                        ...                       ...   \n",
       "853  34.0                        3.0                      18.0   \n",
       "854  32.0                        2.0                      19.0   \n",
       "855  25.0                        2.0                      17.0   \n",
       "856  33.0                        2.0                      24.0   \n",
       "857  29.0                        2.0                      20.0   \n",
       "\n",
       "     Num_of_pregnancies  Smokes  Smokes__years  Hormonal_Contraceptives  \\\n",
       "0                   1.0     0.0            0.0                      0.0   \n",
       "1                   1.0     0.0            0.0                      0.0   \n",
       "2                   1.0     0.0            0.0                      0.0   \n",
       "3                   4.0     1.0           37.0                      1.0   \n",
       "4                   4.0     0.0            0.0                      1.0   \n",
       "..                  ...     ...            ...                      ...   \n",
       "853                 0.0     0.0            0.0                      0.0   \n",
       "854                 1.0     0.0            0.0                      1.0   \n",
       "855                 0.0     0.0            0.0                      1.0   \n",
       "856                 2.0     0.0            0.0                      1.0   \n",
       "857                 1.0     0.0            0.0                      1.0   \n",
       "\n",
       "     Hormonal_Contraceptives__years  IUD  IUD__years  STDs  \\\n",
       "0                              0.00  0.0         0.0   0.0   \n",
       "1                              0.00  0.0         0.0   0.0   \n",
       "2                              0.00  0.0         0.0   0.0   \n",
       "3                              3.00  0.0         0.0   0.0   \n",
       "4                             15.00  0.0         0.0   0.0   \n",
       "..                              ...  ...         ...   ...   \n",
       "853                            0.00  0.0         0.0   0.0   \n",
       "854                            8.00  0.0         0.0   0.0   \n",
       "855                            0.08  0.0         0.0   0.0   \n",
       "856                            0.08  0.0         0.0   0.0   \n",
       "857                            0.50  0.0         0.0   0.0   \n",
       "\n",
       "     STDs__Number_of_diagnosis  STDs__Time_since_first_diagnosis  \\\n",
       "0                          0.0                               1.0   \n",
       "1                          0.0                               1.0   \n",
       "2                          0.0                               1.0   \n",
       "3                          0.0                               1.0   \n",
       "4                          0.0                               1.0   \n",
       "..                         ...                               ...   \n",
       "853                        0.0                               1.0   \n",
       "854                        0.0                               1.0   \n",
       "855                        0.0                               1.0   \n",
       "856                        0.0                               1.0   \n",
       "857                        0.0                               1.0   \n",
       "\n",
       "     STDs__Time_since_last_diagnosis  Biopsy  \n",
       "0                                1.0     0.0  \n",
       "1                                1.0     0.0  \n",
       "2                                1.0     0.0  \n",
       "3                                1.0     0.0  \n",
       "4                                1.0     0.0  \n",
       "..                               ...     ...  \n",
       "853                              1.0     0.0  \n",
       "854                              1.0     0.0  \n",
       "855                              1.0     0.0  \n",
       "856                              1.0     0.0  \n",
       "857                              1.0     0.0  \n",
       "\n",
       "[858 rows x 15 columns]"
      ]
     },
     "execution_count": 1325,
     "metadata": {},
     "output_type": "execute_result"
    }
   ],
   "source": [
    "cv_data.df"
   ]
  },
  {
   "cell_type": "markdown",
   "metadata": {
    "tags": []
   },
   "source": [
    "#### Let's check out the `readme.txt` to find out what all these columns represent"
   ]
  },
  {
   "cell_type": "code",
   "execution_count": 1326,
   "metadata": {},
   "outputs": [
    {
     "name": "stdout",
     "output_type": "stream",
     "text": [
      "FeatureModel(->Not fully specified yet!)\n",
      "FeatureModel(Biopsy ~ -1 + Age + Number_of_sexual_partners + First_sexual_intercourse + Num_of_pregnancies + Smokes + Smokes__years + Hormonal_Contraceptives + Hormonal_Contraceptives__years + IUD + IUD__years + STDs + STDs__Number_of_diagnosis + STDs__Time_since_first_diagnosis + STDs__Time_since_last_diagnosis )\n"
     ]
    }
   ],
   "source": [
    "cv_data.add_target(\"Biopsy\")\n",
    "cv_data.add_all_features_but_target()"
   ]
  },
  {
   "cell_type": "code",
   "execution_count": 1327,
   "metadata": {},
   "outputs": [],
   "source": [
    "X, y = cv_data.return_Xy()"
   ]
  },
  {
   "cell_type": "code",
   "execution_count": 1328,
   "metadata": {},
   "outputs": [
    {
     "data": {
      "text/html": [
       "<div>\n",
       "<style scoped>\n",
       "    .dataframe tbody tr th:only-of-type {\n",
       "        vertical-align: middle;\n",
       "    }\n",
       "\n",
       "    .dataframe tbody tr th {\n",
       "        vertical-align: top;\n",
       "    }\n",
       "\n",
       "    .dataframe thead th {\n",
       "        text-align: right;\n",
       "    }\n",
       "</style>\n",
       "<table border=\"1\" class=\"dataframe\">\n",
       "  <thead>\n",
       "    <tr style=\"text-align: right;\">\n",
       "      <th></th>\n",
       "      <th>Age</th>\n",
       "      <th>Number_of_sexual_partners</th>\n",
       "      <th>First_sexual_intercourse</th>\n",
       "      <th>Num_of_pregnancies</th>\n",
       "      <th>Smokes</th>\n",
       "      <th>Smokes__years</th>\n",
       "      <th>Hormonal_Contraceptives</th>\n",
       "      <th>Hormonal_Contraceptives__years</th>\n",
       "      <th>IUD</th>\n",
       "      <th>IUD__years</th>\n",
       "      <th>STDs</th>\n",
       "      <th>STDs__Number_of_diagnosis</th>\n",
       "      <th>STDs__Time_since_first_diagnosis</th>\n",
       "      <th>STDs__Time_since_last_diagnosis</th>\n",
       "    </tr>\n",
       "  </thead>\n",
       "  <tbody>\n",
       "    <tr>\n",
       "      <th>0</th>\n",
       "      <td>18.0</td>\n",
       "      <td>4.0</td>\n",
       "      <td>15.0</td>\n",
       "      <td>1.0</td>\n",
       "      <td>0.0</td>\n",
       "      <td>0.0</td>\n",
       "      <td>0.0</td>\n",
       "      <td>0.00</td>\n",
       "      <td>0.0</td>\n",
       "      <td>0.0</td>\n",
       "      <td>0.0</td>\n",
       "      <td>0.0</td>\n",
       "      <td>1.0</td>\n",
       "      <td>1.0</td>\n",
       "    </tr>\n",
       "    <tr>\n",
       "      <th>1</th>\n",
       "      <td>15.0</td>\n",
       "      <td>1.0</td>\n",
       "      <td>14.0</td>\n",
       "      <td>1.0</td>\n",
       "      <td>0.0</td>\n",
       "      <td>0.0</td>\n",
       "      <td>0.0</td>\n",
       "      <td>0.00</td>\n",
       "      <td>0.0</td>\n",
       "      <td>0.0</td>\n",
       "      <td>0.0</td>\n",
       "      <td>0.0</td>\n",
       "      <td>1.0</td>\n",
       "      <td>1.0</td>\n",
       "    </tr>\n",
       "    <tr>\n",
       "      <th>2</th>\n",
       "      <td>34.0</td>\n",
       "      <td>1.0</td>\n",
       "      <td>15.0</td>\n",
       "      <td>1.0</td>\n",
       "      <td>0.0</td>\n",
       "      <td>0.0</td>\n",
       "      <td>0.0</td>\n",
       "      <td>0.00</td>\n",
       "      <td>0.0</td>\n",
       "      <td>0.0</td>\n",
       "      <td>0.0</td>\n",
       "      <td>0.0</td>\n",
       "      <td>1.0</td>\n",
       "      <td>1.0</td>\n",
       "    </tr>\n",
       "    <tr>\n",
       "      <th>3</th>\n",
       "      <td>52.0</td>\n",
       "      <td>5.0</td>\n",
       "      <td>16.0</td>\n",
       "      <td>4.0</td>\n",
       "      <td>1.0</td>\n",
       "      <td>37.0</td>\n",
       "      <td>1.0</td>\n",
       "      <td>3.00</td>\n",
       "      <td>0.0</td>\n",
       "      <td>0.0</td>\n",
       "      <td>0.0</td>\n",
       "      <td>0.0</td>\n",
       "      <td>1.0</td>\n",
       "      <td>1.0</td>\n",
       "    </tr>\n",
       "    <tr>\n",
       "      <th>4</th>\n",
       "      <td>46.0</td>\n",
       "      <td>3.0</td>\n",
       "      <td>21.0</td>\n",
       "      <td>4.0</td>\n",
       "      <td>0.0</td>\n",
       "      <td>0.0</td>\n",
       "      <td>1.0</td>\n",
       "      <td>15.00</td>\n",
       "      <td>0.0</td>\n",
       "      <td>0.0</td>\n",
       "      <td>0.0</td>\n",
       "      <td>0.0</td>\n",
       "      <td>1.0</td>\n",
       "      <td>1.0</td>\n",
       "    </tr>\n",
       "    <tr>\n",
       "      <th>...</th>\n",
       "      <td>...</td>\n",
       "      <td>...</td>\n",
       "      <td>...</td>\n",
       "      <td>...</td>\n",
       "      <td>...</td>\n",
       "      <td>...</td>\n",
       "      <td>...</td>\n",
       "      <td>...</td>\n",
       "      <td>...</td>\n",
       "      <td>...</td>\n",
       "      <td>...</td>\n",
       "      <td>...</td>\n",
       "      <td>...</td>\n",
       "      <td>...</td>\n",
       "    </tr>\n",
       "    <tr>\n",
       "      <th>853</th>\n",
       "      <td>34.0</td>\n",
       "      <td>3.0</td>\n",
       "      <td>18.0</td>\n",
       "      <td>0.0</td>\n",
       "      <td>0.0</td>\n",
       "      <td>0.0</td>\n",
       "      <td>0.0</td>\n",
       "      <td>0.00</td>\n",
       "      <td>0.0</td>\n",
       "      <td>0.0</td>\n",
       "      <td>0.0</td>\n",
       "      <td>0.0</td>\n",
       "      <td>1.0</td>\n",
       "      <td>1.0</td>\n",
       "    </tr>\n",
       "    <tr>\n",
       "      <th>854</th>\n",
       "      <td>32.0</td>\n",
       "      <td>2.0</td>\n",
       "      <td>19.0</td>\n",
       "      <td>1.0</td>\n",
       "      <td>0.0</td>\n",
       "      <td>0.0</td>\n",
       "      <td>1.0</td>\n",
       "      <td>8.00</td>\n",
       "      <td>0.0</td>\n",
       "      <td>0.0</td>\n",
       "      <td>0.0</td>\n",
       "      <td>0.0</td>\n",
       "      <td>1.0</td>\n",
       "      <td>1.0</td>\n",
       "    </tr>\n",
       "    <tr>\n",
       "      <th>855</th>\n",
       "      <td>25.0</td>\n",
       "      <td>2.0</td>\n",
       "      <td>17.0</td>\n",
       "      <td>0.0</td>\n",
       "      <td>0.0</td>\n",
       "      <td>0.0</td>\n",
       "      <td>1.0</td>\n",
       "      <td>0.08</td>\n",
       "      <td>0.0</td>\n",
       "      <td>0.0</td>\n",
       "      <td>0.0</td>\n",
       "      <td>0.0</td>\n",
       "      <td>1.0</td>\n",
       "      <td>1.0</td>\n",
       "    </tr>\n",
       "    <tr>\n",
       "      <th>856</th>\n",
       "      <td>33.0</td>\n",
       "      <td>2.0</td>\n",
       "      <td>24.0</td>\n",
       "      <td>2.0</td>\n",
       "      <td>0.0</td>\n",
       "      <td>0.0</td>\n",
       "      <td>1.0</td>\n",
       "      <td>0.08</td>\n",
       "      <td>0.0</td>\n",
       "      <td>0.0</td>\n",
       "      <td>0.0</td>\n",
       "      <td>0.0</td>\n",
       "      <td>1.0</td>\n",
       "      <td>1.0</td>\n",
       "    </tr>\n",
       "    <tr>\n",
       "      <th>857</th>\n",
       "      <td>29.0</td>\n",
       "      <td>2.0</td>\n",
       "      <td>20.0</td>\n",
       "      <td>1.0</td>\n",
       "      <td>0.0</td>\n",
       "      <td>0.0</td>\n",
       "      <td>1.0</td>\n",
       "      <td>0.50</td>\n",
       "      <td>0.0</td>\n",
       "      <td>0.0</td>\n",
       "      <td>0.0</td>\n",
       "      <td>0.0</td>\n",
       "      <td>1.0</td>\n",
       "      <td>1.0</td>\n",
       "    </tr>\n",
       "  </tbody>\n",
       "</table>\n",
       "<p>858 rows × 14 columns</p>\n",
       "</div>"
      ],
      "text/plain": [
       "      Age  Number_of_sexual_partners  First_sexual_intercourse  \\\n",
       "0    18.0                        4.0                      15.0   \n",
       "1    15.0                        1.0                      14.0   \n",
       "2    34.0                        1.0                      15.0   \n",
       "3    52.0                        5.0                      16.0   \n",
       "4    46.0                        3.0                      21.0   \n",
       "..    ...                        ...                       ...   \n",
       "853  34.0                        3.0                      18.0   \n",
       "854  32.0                        2.0                      19.0   \n",
       "855  25.0                        2.0                      17.0   \n",
       "856  33.0                        2.0                      24.0   \n",
       "857  29.0                        2.0                      20.0   \n",
       "\n",
       "     Num_of_pregnancies  Smokes  Smokes__years  Hormonal_Contraceptives  \\\n",
       "0                   1.0     0.0            0.0                      0.0   \n",
       "1                   1.0     0.0            0.0                      0.0   \n",
       "2                   1.0     0.0            0.0                      0.0   \n",
       "3                   4.0     1.0           37.0                      1.0   \n",
       "4                   4.0     0.0            0.0                      1.0   \n",
       "..                  ...     ...            ...                      ...   \n",
       "853                 0.0     0.0            0.0                      0.0   \n",
       "854                 1.0     0.0            0.0                      1.0   \n",
       "855                 0.0     0.0            0.0                      1.0   \n",
       "856                 2.0     0.0            0.0                      1.0   \n",
       "857                 1.0     0.0            0.0                      1.0   \n",
       "\n",
       "     Hormonal_Contraceptives__years  IUD  IUD__years  STDs  \\\n",
       "0                              0.00  0.0         0.0   0.0   \n",
       "1                              0.00  0.0         0.0   0.0   \n",
       "2                              0.00  0.0         0.0   0.0   \n",
       "3                              3.00  0.0         0.0   0.0   \n",
       "4                             15.00  0.0         0.0   0.0   \n",
       "..                              ...  ...         ...   ...   \n",
       "853                            0.00  0.0         0.0   0.0   \n",
       "854                            8.00  0.0         0.0   0.0   \n",
       "855                            0.08  0.0         0.0   0.0   \n",
       "856                            0.08  0.0         0.0   0.0   \n",
       "857                            0.50  0.0         0.0   0.0   \n",
       "\n",
       "     STDs__Number_of_diagnosis  STDs__Time_since_first_diagnosis  \\\n",
       "0                          0.0                               1.0   \n",
       "1                          0.0                               1.0   \n",
       "2                          0.0                               1.0   \n",
       "3                          0.0                               1.0   \n",
       "4                          0.0                               1.0   \n",
       "..                         ...                               ...   \n",
       "853                        0.0                               1.0   \n",
       "854                        0.0                               1.0   \n",
       "855                        0.0                               1.0   \n",
       "856                        0.0                               1.0   \n",
       "857                        0.0                               1.0   \n",
       "\n",
       "     STDs__Time_since_last_diagnosis  \n",
       "0                                1.0  \n",
       "1                                1.0  \n",
       "2                                1.0  \n",
       "3                                1.0  \n",
       "4                                1.0  \n",
       "..                               ...  \n",
       "853                              1.0  \n",
       "854                              1.0  \n",
       "855                              1.0  \n",
       "856                              1.0  \n",
       "857                              1.0  \n",
       "\n",
       "[858 rows x 14 columns]"
      ]
     },
     "execution_count": 1328,
     "metadata": {},
     "output_type": "execute_result"
    }
   ],
   "source": [
    "X"
   ]
  },
  {
   "cell_type": "markdown",
   "metadata": {},
   "source": [
    "What is the percentage of people that did have cancer?"
   ]
  },
  {
   "cell_type": "code",
   "execution_count": 1329,
   "metadata": {},
   "outputs": [
    {
     "data": {
      "text/plain": [
       "Biopsy    0.064103\n",
       "dtype: float64"
      ]
     },
     "execution_count": 1329,
     "metadata": {},
     "output_type": "execute_result"
    }
   ],
   "source": [
    "y.mean()"
   ]
  },
  {
   "cell_type": "markdown",
   "metadata": {
    "tags": []
   },
   "source": [
    "### Splitting into test- and training-data"
   ]
  },
  {
   "cell_type": "code",
   "execution_count": 1330,
   "metadata": {},
   "outputs": [],
   "source": [
    "X_train, y_train, X_val, y_val = cv_data.return_Xy(train_test_split=True)"
   ]
  },
  {
   "cell_type": "code",
   "execution_count": 1331,
   "metadata": {},
   "outputs": [
    {
     "data": {
      "text/html": [
       "<div>\n",
       "<style scoped>\n",
       "    .dataframe tbody tr th:only-of-type {\n",
       "        vertical-align: middle;\n",
       "    }\n",
       "\n",
       "    .dataframe tbody tr th {\n",
       "        vertical-align: top;\n",
       "    }\n",
       "\n",
       "    .dataframe thead th {\n",
       "        text-align: right;\n",
       "    }\n",
       "</style>\n",
       "<table border=\"1\" class=\"dataframe\">\n",
       "  <thead>\n",
       "    <tr style=\"text-align: right;\">\n",
       "      <th></th>\n",
       "      <th>Age</th>\n",
       "      <th>Number_of_sexual_partners</th>\n",
       "      <th>First_sexual_intercourse</th>\n",
       "      <th>Num_of_pregnancies</th>\n",
       "      <th>Smokes</th>\n",
       "      <th>Smokes__years</th>\n",
       "      <th>Hormonal_Contraceptives</th>\n",
       "      <th>Hormonal_Contraceptives__years</th>\n",
       "      <th>IUD</th>\n",
       "      <th>IUD__years</th>\n",
       "      <th>STDs</th>\n",
       "      <th>STDs__Number_of_diagnosis</th>\n",
       "      <th>STDs__Time_since_first_diagnosis</th>\n",
       "      <th>STDs__Time_since_last_diagnosis</th>\n",
       "    </tr>\n",
       "  </thead>\n",
       "  <tbody>\n",
       "    <tr>\n",
       "      <th>408</th>\n",
       "      <td>17.0</td>\n",
       "      <td>2.0</td>\n",
       "      <td>15.0</td>\n",
       "      <td>2.0</td>\n",
       "      <td>0.0</td>\n",
       "      <td>0.0</td>\n",
       "      <td>1.0</td>\n",
       "      <td>0.000000</td>\n",
       "      <td>0.0</td>\n",
       "      <td>0.0</td>\n",
       "      <td>0.0</td>\n",
       "      <td>0.0</td>\n",
       "      <td>1.0</td>\n",
       "      <td>1.0</td>\n",
       "    </tr>\n",
       "    <tr>\n",
       "      <th>207</th>\n",
       "      <td>26.0</td>\n",
       "      <td>3.0</td>\n",
       "      <td>18.0</td>\n",
       "      <td>2.0</td>\n",
       "      <td>0.0</td>\n",
       "      <td>0.0</td>\n",
       "      <td>1.0</td>\n",
       "      <td>1.000000</td>\n",
       "      <td>0.0</td>\n",
       "      <td>0.0</td>\n",
       "      <td>0.0</td>\n",
       "      <td>0.0</td>\n",
       "      <td>1.0</td>\n",
       "      <td>1.0</td>\n",
       "    </tr>\n",
       "    <tr>\n",
       "      <th>61</th>\n",
       "      <td>35.0</td>\n",
       "      <td>3.0</td>\n",
       "      <td>20.0</td>\n",
       "      <td>5.0</td>\n",
       "      <td>1.0</td>\n",
       "      <td>19.0</td>\n",
       "      <td>1.0</td>\n",
       "      <td>4.000000</td>\n",
       "      <td>0.0</td>\n",
       "      <td>0.0</td>\n",
       "      <td>0.0</td>\n",
       "      <td>0.0</td>\n",
       "      <td>1.0</td>\n",
       "      <td>1.0</td>\n",
       "    </tr>\n",
       "    <tr>\n",
       "      <th>455</th>\n",
       "      <td>18.0</td>\n",
       "      <td>1.0</td>\n",
       "      <td>16.0</td>\n",
       "      <td>2.0</td>\n",
       "      <td>0.0</td>\n",
       "      <td>0.0</td>\n",
       "      <td>0.0</td>\n",
       "      <td>0.000000</td>\n",
       "      <td>0.0</td>\n",
       "      <td>0.0</td>\n",
       "      <td>1.0</td>\n",
       "      <td>0.0</td>\n",
       "      <td>1.0</td>\n",
       "      <td>1.0</td>\n",
       "    </tr>\n",
       "    <tr>\n",
       "      <th>331</th>\n",
       "      <td>27.0</td>\n",
       "      <td>1.0</td>\n",
       "      <td>15.0</td>\n",
       "      <td>4.0</td>\n",
       "      <td>0.0</td>\n",
       "      <td>0.0</td>\n",
       "      <td>1.0</td>\n",
       "      <td>2.282201</td>\n",
       "      <td>1.0</td>\n",
       "      <td>5.0</td>\n",
       "      <td>0.0</td>\n",
       "      <td>0.0</td>\n",
       "      <td>1.0</td>\n",
       "      <td>1.0</td>\n",
       "    </tr>\n",
       "    <tr>\n",
       "      <th>...</th>\n",
       "      <td>...</td>\n",
       "      <td>...</td>\n",
       "      <td>...</td>\n",
       "      <td>...</td>\n",
       "      <td>...</td>\n",
       "      <td>...</td>\n",
       "      <td>...</td>\n",
       "      <td>...</td>\n",
       "      <td>...</td>\n",
       "      <td>...</td>\n",
       "      <td>...</td>\n",
       "      <td>...</td>\n",
       "      <td>...</td>\n",
       "      <td>...</td>\n",
       "    </tr>\n",
       "    <tr>\n",
       "      <th>715</th>\n",
       "      <td>15.0</td>\n",
       "      <td>2.0</td>\n",
       "      <td>14.0</td>\n",
       "      <td>1.0</td>\n",
       "      <td>0.0</td>\n",
       "      <td>0.0</td>\n",
       "      <td>0.0</td>\n",
       "      <td>0.000000</td>\n",
       "      <td>0.0</td>\n",
       "      <td>0.0</td>\n",
       "      <td>0.0</td>\n",
       "      <td>0.0</td>\n",
       "      <td>1.0</td>\n",
       "      <td>1.0</td>\n",
       "    </tr>\n",
       "    <tr>\n",
       "      <th>767</th>\n",
       "      <td>15.0</td>\n",
       "      <td>2.0</td>\n",
       "      <td>13.0</td>\n",
       "      <td>1.0</td>\n",
       "      <td>0.0</td>\n",
       "      <td>0.0</td>\n",
       "      <td>1.0</td>\n",
       "      <td>0.000000</td>\n",
       "      <td>0.0</td>\n",
       "      <td>0.0</td>\n",
       "      <td>0.0</td>\n",
       "      <td>0.0</td>\n",
       "      <td>1.0</td>\n",
       "      <td>1.0</td>\n",
       "    </tr>\n",
       "    <tr>\n",
       "      <th>72</th>\n",
       "      <td>34.0</td>\n",
       "      <td>2.0</td>\n",
       "      <td>21.0</td>\n",
       "      <td>2.0</td>\n",
       "      <td>0.0</td>\n",
       "      <td>0.0</td>\n",
       "      <td>1.0</td>\n",
       "      <td>0.330000</td>\n",
       "      <td>0.0</td>\n",
       "      <td>0.0</td>\n",
       "      <td>0.0</td>\n",
       "      <td>0.0</td>\n",
       "      <td>1.0</td>\n",
       "      <td>1.0</td>\n",
       "    </tr>\n",
       "    <tr>\n",
       "      <th>235</th>\n",
       "      <td>25.0</td>\n",
       "      <td>2.0</td>\n",
       "      <td>17.0</td>\n",
       "      <td>1.0</td>\n",
       "      <td>0.0</td>\n",
       "      <td>0.0</td>\n",
       "      <td>1.0</td>\n",
       "      <td>0.500000</td>\n",
       "      <td>0.0</td>\n",
       "      <td>0.0</td>\n",
       "      <td>0.0</td>\n",
       "      <td>0.0</td>\n",
       "      <td>1.0</td>\n",
       "      <td>1.0</td>\n",
       "    </tr>\n",
       "    <tr>\n",
       "      <th>37</th>\n",
       "      <td>37.0</td>\n",
       "      <td>2.0</td>\n",
       "      <td>18.0</td>\n",
       "      <td>1.0</td>\n",
       "      <td>0.0</td>\n",
       "      <td>0.0</td>\n",
       "      <td>1.0</td>\n",
       "      <td>0.580000</td>\n",
       "      <td>0.0</td>\n",
       "      <td>0.0</td>\n",
       "      <td>0.0</td>\n",
       "      <td>0.0</td>\n",
       "      <td>1.0</td>\n",
       "      <td>1.0</td>\n",
       "    </tr>\n",
       "  </tbody>\n",
       "</table>\n",
       "<p>686 rows × 14 columns</p>\n",
       "</div>"
      ],
      "text/plain": [
       "      Age  Number_of_sexual_partners  First_sexual_intercourse  \\\n",
       "408  17.0                        2.0                      15.0   \n",
       "207  26.0                        3.0                      18.0   \n",
       "61   35.0                        3.0                      20.0   \n",
       "455  18.0                        1.0                      16.0   \n",
       "331  27.0                        1.0                      15.0   \n",
       "..    ...                        ...                       ...   \n",
       "715  15.0                        2.0                      14.0   \n",
       "767  15.0                        2.0                      13.0   \n",
       "72   34.0                        2.0                      21.0   \n",
       "235  25.0                        2.0                      17.0   \n",
       "37   37.0                        2.0                      18.0   \n",
       "\n",
       "     Num_of_pregnancies  Smokes  Smokes__years  Hormonal_Contraceptives  \\\n",
       "408                 2.0     0.0            0.0                      1.0   \n",
       "207                 2.0     0.0            0.0                      1.0   \n",
       "61                  5.0     1.0           19.0                      1.0   \n",
       "455                 2.0     0.0            0.0                      0.0   \n",
       "331                 4.0     0.0            0.0                      1.0   \n",
       "..                  ...     ...            ...                      ...   \n",
       "715                 1.0     0.0            0.0                      0.0   \n",
       "767                 1.0     0.0            0.0                      1.0   \n",
       "72                  2.0     0.0            0.0                      1.0   \n",
       "235                 1.0     0.0            0.0                      1.0   \n",
       "37                  1.0     0.0            0.0                      1.0   \n",
       "\n",
       "     Hormonal_Contraceptives__years  IUD  IUD__years  STDs  \\\n",
       "408                        0.000000  0.0         0.0   0.0   \n",
       "207                        1.000000  0.0         0.0   0.0   \n",
       "61                         4.000000  0.0         0.0   0.0   \n",
       "455                        0.000000  0.0         0.0   1.0   \n",
       "331                        2.282201  1.0         5.0   0.0   \n",
       "..                              ...  ...         ...   ...   \n",
       "715                        0.000000  0.0         0.0   0.0   \n",
       "767                        0.000000  0.0         0.0   0.0   \n",
       "72                         0.330000  0.0         0.0   0.0   \n",
       "235                        0.500000  0.0         0.0   0.0   \n",
       "37                         0.580000  0.0         0.0   0.0   \n",
       "\n",
       "     STDs__Number_of_diagnosis  STDs__Time_since_first_diagnosis  \\\n",
       "408                        0.0                               1.0   \n",
       "207                        0.0                               1.0   \n",
       "61                         0.0                               1.0   \n",
       "455                        0.0                               1.0   \n",
       "331                        0.0                               1.0   \n",
       "..                         ...                               ...   \n",
       "715                        0.0                               1.0   \n",
       "767                        0.0                               1.0   \n",
       "72                         0.0                               1.0   \n",
       "235                        0.0                               1.0   \n",
       "37                         0.0                               1.0   \n",
       "\n",
       "     STDs__Time_since_last_diagnosis  \n",
       "408                              1.0  \n",
       "207                              1.0  \n",
       "61                               1.0  \n",
       "455                              1.0  \n",
       "331                              1.0  \n",
       "..                               ...  \n",
       "715                              1.0  \n",
       "767                              1.0  \n",
       "72                               1.0  \n",
       "235                              1.0  \n",
       "37                               1.0  \n",
       "\n",
       "[686 rows x 14 columns]"
      ]
     },
     "execution_count": 1331,
     "metadata": {},
     "output_type": "execute_result"
    }
   ],
   "source": [
    "X_train"
   ]
  },
  {
   "cell_type": "markdown",
   "metadata": {
    "tags": []
   },
   "source": [
    "## Logistic regression "
   ]
  },
  {
   "cell_type": "code",
   "execution_count": 1332,
   "metadata": {},
   "outputs": [
    {
     "name": "stderr",
     "output_type": "stream",
     "text": [
      "C:\\Users\\sujit\\miniconda3\\envs\\xML\\lib\\site-packages\\sklearn\\utils\\validation.py:993: DataConversionWarning: A column-vector y was passed when a 1d array was expected. Please change the shape of y to (n_samples, ), for example using ravel().\n",
      "  y = column_or_1d(y, warn=True)\n"
     ]
    },
    {
     "data": {
      "text/plain": [
       "LogisticRegression(max_iter=1000, random_state=1)"
      ]
     },
     "execution_count": 1332,
     "metadata": {},
     "output_type": "execute_result"
    }
   ],
   "source": [
    "from sklearn.linear_model import LogisticRegression\n",
    "\n",
    "clf = LogisticRegression(random_state=1, max_iter=1000)\n",
    "clf.fit(X_train, y_train)"
   ]
  },
  {
   "cell_type": "code",
   "execution_count": 1333,
   "metadata": {},
   "outputs": [
    {
     "data": {
      "text/plain": [
       "0.9302325581395349"
      ]
     },
     "execution_count": 1333,
     "metadata": {},
     "output_type": "execute_result"
    }
   ],
   "source": [
    "clf.score(X_val, y_val)"
   ]
  },
  {
   "cell_type": "markdown",
   "metadata": {},
   "source": [
    "Q: What do think of this accuracy / Is there maybe an issue regarding the distribution of target-values?"
   ]
  },
  {
   "cell_type": "code",
   "execution_count": 1334,
   "metadata": {},
   "outputs": [
    {
     "data": {
      "text/plain": [
       "Age                                 25.00\n",
       "Number_of_sexual_partners            2.00\n",
       "First_sexual_intercourse            18.00\n",
       "Num_of_pregnancies                   2.00\n",
       "Smokes                               0.00\n",
       "Smokes__years                        0.00\n",
       "Hormonal_Contraceptives              1.00\n",
       "Hormonal_Contraceptives__years       0.25\n",
       "IUD                                  0.00\n",
       "IUD__years                           0.00\n",
       "STDs                                 0.00\n",
       "STDs__Number_of_diagnosis            0.00\n",
       "STDs__Time_since_first_diagnosis     1.00\n",
       "STDs__Time_since_last_diagnosis      1.00\n",
       "Name: 255, dtype: float64"
      ]
     },
     "execution_count": 1334,
     "metadata": {},
     "output_type": "execute_result"
    }
   ],
   "source": [
    "X_val.iloc[0]"
   ]
  },
  {
   "cell_type": "code",
   "execution_count": 1335,
   "metadata": {},
   "outputs": [
    {
     "data": {
      "text/plain": [
       "array([0.])"
      ]
     },
     "execution_count": 1335,
     "metadata": {},
     "output_type": "execute_result"
    }
   ],
   "source": [
    "clf.predict(X_val.iloc[0:1])"
   ]
  },
  {
   "cell_type": "code",
   "execution_count": 1336,
   "metadata": {},
   "outputs": [
    {
     "data": {
      "text/plain": [
       "array([[0.96604873, 0.03395127]])"
      ]
     },
     "execution_count": 1336,
     "metadata": {},
     "output_type": "execute_result"
    }
   ],
   "source": [
    "clf.predict_proba(X_val.iloc[0:1])"
   ]
  },
  {
   "cell_type": "markdown",
   "metadata": {},
   "source": [
    "### Exercise 2.1\n",
    "Using the above `Logistic regression` classifier, by what factor does the odds-ratio of having cancer over not having cancer increase for every additional diagnosed STD?"
   ]
  },
  {
   "cell_type": "code",
   "execution_count": 1337,
   "metadata": {},
   "outputs": [],
   "source": [
    "def ex_2_1() -> float:\n",
    "    #TODO\n",
    "    return np.exp(clf.coef_[0][X_train.columns.get_loc(\"STDs__Number_of_diagnosis\")])"
   ]
  },
  {
   "cell_type": "code",
   "execution_count": 1338,
   "metadata": {},
   "outputs": [
    {
     "name": "stderr",
     "output_type": "stream",
     "text": [
      "C:\\Users\\sujit\\miniconda3\\envs\\xML\\lib\\site-packages\\sklearn\\utils\\validation.py:993: DataConversionWarning: A column-vector y was passed when a 1d array was expected. Please change the shape of y to (n_samples, ), for example using ravel().\n",
      "  y = column_or_1d(y, warn=True)\n"
     ]
    },
    {
     "name": "stdout",
     "output_type": "stream",
     "text": [
      "Great work!\n"
     ]
    }
   ],
   "source": [
    "compare(\"ex_2_1\", ex_2_1)"
   ]
  },
  {
   "cell_type": "markdown",
   "metadata": {},
   "source": [
    "### Exercise 2.2\n",
    "What is the odds-ratio of having cancer over not having cancer if every feature is at a value of zero?"
   ]
  },
  {
   "cell_type": "code",
   "execution_count": 1339,
   "metadata": {},
   "outputs": [],
   "source": [
    "def ex_2_2() -> float:\n",
    "    #TODO\n",
    "    return np.exp(clf.intercept_[0])"
   ]
  },
  {
   "cell_type": "code",
   "execution_count": 1340,
   "metadata": {},
   "outputs": [
    {
     "name": "stderr",
     "output_type": "stream",
     "text": [
      "C:\\Users\\sujit\\miniconda3\\envs\\xML\\lib\\site-packages\\sklearn\\utils\\validation.py:993: DataConversionWarning: A column-vector y was passed when a 1d array was expected. Please change the shape of y to (n_samples, ), for example using ravel().\n",
      "  y = column_or_1d(y, warn=True)\n"
     ]
    },
    {
     "name": "stdout",
     "output_type": "stream",
     "text": [
      "Great work!\n"
     ]
    }
   ],
   "source": [
    "compare(\"ex_2_2\", ex_2_2)"
   ]
  },
  {
   "cell_type": "markdown",
   "metadata": {
    "tags": []
   },
   "source": [
    "## Decision/Rule Tree (using e.g. CART)"
   ]
  },
  {
   "cell_type": "markdown",
   "metadata": {
    "tags": []
   },
   "source": [
    "### Exercise 2.3\n",
    "Add the following functionality to the existing `ex_2_3`. If `random_number_feature`=True, then each sample should have an addtional feature that is completely random and normally-distributed"
   ]
  },
  {
   "cell_type": "code",
   "execution_count": 1341,
   "metadata": {},
   "outputs": [],
   "source": [
    "def ex_2_3(random_number_feature=False):\n",
    "    with contextlib.redirect_stdout(None):\n",
    "        bike_path = \"datasets/bike/rented_bikes_day_pre.csv\"\n",
    "        bike_data = FeatureModel(bike_path)\n",
    "        bike_data.add_target(\"cnt\")\n",
    "        bike_data.add_feature(\"days_since_01_01_2011\")\n",
    "        bike_data.add_feature(\"season\")\n",
    "        bike_data.add_feature(\"holiday\")\n",
    "        bike_data.add_feature(\"weekday\")\n",
    "        bike_data.add_feature(\"workingday\")\n",
    "        bike_data.add_feature(\"temp\")\n",
    "        bike_data.add_feature(\"hum\")\n",
    "        bike_data.add_feature(\"windspeed\")\n",
    "        \n",
    "        if random_number_feature:\n",
    "            np.random.seed(1)\n",
    "            def random_number(temp):\n",
    "                #TODO\n",
    "                return np.random.normal(loc=0.0, scale=1.0, size=temp.shape)\n",
    "            bike_data.add_function_feature(random_number, \"temp\",)\n",
    "    \n",
    "    return bike_data.return_Xy(train_test_split=True)"
   ]
  },
  {
   "cell_type": "code",
   "execution_count": 1342,
   "metadata": {},
   "outputs": [
    {
     "name": "stderr",
     "output_type": "stream",
     "text": [
      "C:\\Users\\sujit\\miniconda3\\envs\\xML\\lib\\site-packages\\sklearn\\utils\\validation.py:993: DataConversionWarning: A column-vector y was passed when a 1d array was expected. Please change the shape of y to (n_samples, ), for example using ravel().\n",
      "  y = column_or_1d(y, warn=True)\n"
     ]
    },
    {
     "name": "stdout",
     "output_type": "stream",
     "text": [
      "Great work!\n"
     ]
    }
   ],
   "source": [
    "compare(\"ex_2_3\", ex_2_3)"
   ]
  },
  {
   "cell_type": "code",
   "execution_count": 1343,
   "metadata": {
    "tags": []
   },
   "outputs": [],
   "source": [
    "X_train, y_train, X_val, y_val = ex_2_3()"
   ]
  },
  {
   "cell_type": "code",
   "execution_count": 1344,
   "metadata": {},
   "outputs": [],
   "source": [
    "from sklearn.tree import DecisionTreeRegressor"
   ]
  },
  {
   "cell_type": "code",
   "execution_count": 1345,
   "metadata": {},
   "outputs": [
    {
     "data": {
      "text/plain": [
       "DecisionTreeRegressor(max_depth=4, random_state=1)"
      ]
     },
     "execution_count": 1345,
     "metadata": {},
     "output_type": "execute_result"
    }
   ],
   "source": [
    "regr = DecisionTreeRegressor(max_depth=4, random_state=1) \n",
    "regr.fit(X_train, y_train)"
   ]
  },
  {
   "cell_type": "code",
   "execution_count": 1346,
   "metadata": {},
   "outputs": [
    {
     "data": {
      "text/plain": [
       "0.8403245504298114"
      ]
     },
     "execution_count": 1346,
     "metadata": {},
     "output_type": "execute_result"
    }
   ],
   "source": [
    "regr.score(X_train, y_train)"
   ]
  },
  {
   "cell_type": "code",
   "execution_count": 1347,
   "metadata": {},
   "outputs": [
    {
     "data": {
      "text/plain": [
       "0.781209554274606"
      ]
     },
     "execution_count": 1347,
     "metadata": {},
     "output_type": "execute_result"
    }
   ],
   "source": [
    "regr.score(X_val, y_val)"
   ]
  },
  {
   "cell_type": "code",
   "execution_count": 1348,
   "metadata": {},
   "outputs": [
    {
     "data": {
      "image/png": "[encoded data removed]",
      "text/plain": [
       "<Figure size 2000x2000 with 1 Axes>"
      ]
     },
     "metadata": {},
     "output_type": "display_data"
    }
   ],
   "source": [
    "from sklearn.tree import plot_tree\n",
    "fig = plt.figure(figsize=(20,20))\n",
    "ax = plt.gca()\n",
    "plot_tree(regr, ax=ax, feature_names=X_train.columns)\n",
    "fig.savefig(\"tree.png\", dpi=400)"
   ]
  },
  {
   "cell_type": "markdown",
   "metadata": {
    "tags": []
   },
   "source": [
    "### Tree’s Feature Importance from Mean Decrease in Impurity (MDI)"
   ]
  },
  {
   "cell_type": "code",
   "execution_count": 1349,
   "metadata": {},
   "outputs": [
    {
     "data": {
      "image/png": "[encoded data removed]",
      "text/plain": [
       "<Figure size 640x480 with 1 Axes>"
      ]
     },
     "metadata": {},
     "output_type": "display_data"
    }
   ],
   "source": [
    "feature_names = X_train.columns\n",
    "\n",
    "tree_feature_importances = regr.feature_importances_\n",
    "sorted_idx = tree_feature_importances.argsort()\n",
    "\n",
    "y_ticks = np.arange(0, len(feature_names))\n",
    "fig, ax = plt.subplots()\n",
    "ax.barh(y_ticks, tree_feature_importances[sorted_idx])\n",
    "ax.set_yticks(y_ticks)\n",
    "ax.set_yticklabels(feature_names[sorted_idx])\n",
    "ax.set_title(\"Random Forest Feature Importances (MDI)\")\n",
    "fig.tight_layout()\n",
    "plt.show()"
   ]
  },
  {
   "cell_type": "markdown",
   "metadata": {
    "tags": []
   },
   "source": [
    "### Exercise 2.4\n",
    "In the above tree: Find the rule with the largest support (that is the leaf with most samples in it), and follow its path. How many samples are in it? Return that value"
   ]
  },
  {
   "cell_type": "code",
   "execution_count": 1350,
   "metadata": {},
   "outputs": [],
   "source": [
    "def ex_2_4() -> int:\n",
    "    #TODO\n",
    "    children_left = regr.tree_.children_left\n",
    "    children_right = regr.tree_.children_right\n",
    "    samples_list = regr.tree_.n_node_samples\n",
    "    \n",
    "    r_largest_support = 0\n",
    "    queue = [0] # start with the root node id (0)\n",
    "    \n",
    "    while len(queue) > 0:\n",
    "        curr_node_id = queue.pop(0)\n",
    "        \n",
    "        # if the left and right child of a node is not the same (-1) we have a split node, otherwise leaf node\n",
    "        if children_left[curr_node_id] != children_right[curr_node_id]:\n",
    "            # split node, so add the left and right children into queue\n",
    "            queue.append(children_left[curr_node_id])\n",
    "            queue.append(children_right[curr_node_id])\n",
    "        else:\n",
    "            # leaf node, so check the number of training samples of current leaf node\n",
    "            if r_largest_support < samples_list[curr_node_id]:\n",
    "                r_largest_support = samples_list[curr_node_id]\n",
    "    \n",
    "    return r_largest_support"
   ]
  },
  {
   "cell_type": "code",
   "execution_count": 1351,
   "metadata": {},
   "outputs": [
    {
     "name": "stderr",
     "output_type": "stream",
     "text": [
      "C:\\Users\\sujit\\miniconda3\\envs\\xML\\lib\\site-packages\\sklearn\\utils\\validation.py:993: DataConversionWarning: A column-vector y was passed when a 1d array was expected. Please change the shape of y to (n_samples, ), for example using ravel().\n",
      "  y = column_or_1d(y, warn=True)\n"
     ]
    },
    {
     "name": "stdout",
     "output_type": "stream",
     "text": [
      "Great work!\n"
     ]
    }
   ],
   "source": [
    "compare(\"ex_2_4\", ex_2_4)"
   ]
  },
  {
   "cell_type": "markdown",
   "metadata": {
    "tags": []
   },
   "source": [
    "### Exercise 2.5\n",
    "Write a function that as input takes `min_samples_leaf` and trains the `DecisionTreeRegressor(min_samples_leaf=min_samples_leaf, random_state=1)` on the bike training data using `ex_2_3`. Return the r2-score on training- and validation-data as a tuple"
   ]
  },
  {
   "cell_type": "code",
   "execution_count": 1352,
   "metadata": {},
   "outputs": [],
   "source": [
    "def ex_2_5(min_samples_leaf) -> (float, float):\n",
    "    X_train, y_train, X_val, y_val = ex_2_3()\n",
    "    \n",
    "    #TODO\n",
    "    dtree = DecisionTreeRegressor(min_samples_leaf=min_samples_leaf, random_state=1) \n",
    "    dtree.fit(X_train, y_train)\n",
    "    \n",
    "    return dtree.score(X_train, y_train), dtree.score(X_val, y_val)"
   ]
  },
  {
   "cell_type": "code",
   "execution_count": 1353,
   "metadata": {},
   "outputs": [
    {
     "name": "stderr",
     "output_type": "stream",
     "text": [
      "C:\\Users\\sujit\\miniconda3\\envs\\xML\\lib\\site-packages\\sklearn\\utils\\validation.py:993: DataConversionWarning: A column-vector y was passed when a 1d array was expected. Please change the shape of y to (n_samples, ), for example using ravel().\n",
      "  y = column_or_1d(y, warn=True)\n"
     ]
    },
    {
     "name": "stdout",
     "output_type": "stream",
     "text": [
      "Great work!\n"
     ]
    }
   ],
   "source": [
    "compare(\"ex_2_5\", ex_2_5)"
   ]
  },
  {
   "cell_type": "code",
   "execution_count": 1354,
   "metadata": {},
   "outputs": [
    {
     "data": {
      "text/plain": [
       "<matplotlib.legend.Legend at 0x133ef594100>"
      ]
     },
     "execution_count": 1354,
     "metadata": {},
     "output_type": "execute_result"
    },
    {
     "data": {
      "image/png": "[encoded data removed]",
      "text/plain": [
       "<Figure size 640x480 with 1 Axes>"
      ]
     },
     "metadata": {},
     "output_type": "display_data"
    }
   ],
   "source": [
    "min_samples_leafs = range(1, 101)\n",
    "train_r2, test_r2 = np.array(list(map(ex_2_5, min_samples_leafs))).transpose()\n",
    "plt.plot(min_samples_leafs, train_r2, label=\"train r2-score\")\n",
    "plt.plot(min_samples_leafs, test_r2, label=\"test r2-score\")\n",
    "plt.xlabel(\"min_samples_leaf\")\n",
    "plt.gca().invert_xaxis()\n",
    "plt.legend()"
   ]
  },
  {
   "cell_type": "markdown",
   "metadata": {},
   "source": [
    "Q: Where is the optimal `min_samples_leaf` value?"
   ]
  },
  {
   "cell_type": "markdown",
   "metadata": {
    "tags": []
   },
   "source": [
    "### Exercise 2.6\n",
    "Write a function that as input takes `min_samples_leaf` and trains the `DecisionTreeRegressor(min_samples_leaf=min_samples_leaf, random_state=1)` on the bike training data with a random feature using `ex_2_3(True)`. Return the feature importance of the features: temp, hum, and the random feature"
   ]
  },
  {
   "cell_type": "code",
   "execution_count": 1355,
   "metadata": {},
   "outputs": [],
   "source": [
    "def ex_2_6(min_samples_leaf) -> (float, float, float):\n",
    "    X_train, y_train, X_val, y_val = ex_2_3(True)\n",
    "    \n",
    "    #TODO\n",
    "    dtree = DecisionTreeRegressor(min_samples_leaf=min_samples_leaf, random_state=1) \n",
    "    dtree.fit(X_train, y_train)\n",
    "    \n",
    "    temp_feature_imp = dtree.feature_importances_[X_train.columns.get_loc(\"temp\")]\n",
    "    hum_feature_imp = dtree.feature_importances_[X_train.columns.get_loc(\"hum\")]\n",
    "    random_feature_imp = dtree.feature_importances_[X_train.columns.get_loc(\"random_number(temp)\")]\n",
    "    \n",
    "    return temp_feature_imp, hum_feature_imp, random_feature_imp"
   ]
  },
  {
   "cell_type": "code",
   "execution_count": 1356,
   "metadata": {},
   "outputs": [
    {
     "name": "stderr",
     "output_type": "stream",
     "text": [
      "C:\\Users\\sujit\\miniconda3\\envs\\xML\\lib\\site-packages\\sklearn\\utils\\validation.py:993: DataConversionWarning: A column-vector y was passed when a 1d array was expected. Please change the shape of y to (n_samples, ), for example using ravel().\n",
      "  y = column_or_1d(y, warn=True)\n"
     ]
    },
    {
     "name": "stdout",
     "output_type": "stream",
     "text": [
      "Great work!\n"
     ]
    }
   ],
   "source": [
    "compare(\"ex_2_6\", ex_2_6)"
   ]
  },
  {
   "cell_type": "code",
   "execution_count": 1357,
   "metadata": {},
   "outputs": [
    {
     "data": {
      "image/png": "[encoded data removed]",
      "text/plain": [
       "<Figure size 640x480 with 1 Axes>"
      ]
     },
     "metadata": {},
     "output_type": "display_data"
    }
   ],
   "source": [
    "min_samples_leafs = range(1, 101)\n",
    "ipts_temp, ipts_hum, ipts_randn = np.array(list(map(ex_2_6, min_samples_leafs))).transpose()\n",
    "plt.plot(min_samples_leafs, ipts_temp, label=\"feature importance of temp feature\")\n",
    "plt.plot(min_samples_leafs, ipts_hum, label=\"feature importance of hum feature\")\n",
    "plt.plot(min_samples_leafs, ipts_randn, label=\"feature importance of random feature\")\n",
    "plt.xlabel(\"min_samples_leaf\")\n",
    "plt.gca().invert_xaxis()\n",
    "plt.legend()\n",
    "plt.show()"
   ]
  },
  {
   "cell_type": "markdown",
   "metadata": {},
   "source": [
    "Q: Does the random feature gain importance?"
   ]
  },
  {
   "cell_type": "markdown",
   "metadata": {},
   "source": [
    "## RuleFit\n",
    "Extract rules using CART and add these rules as features, then use LASSO "
   ]
  },
  {
   "cell_type": "code",
   "execution_count": 1358,
   "metadata": {},
   "outputs": [],
   "source": [
    "from imodels import RuleFitRegressor"
   ]
  },
  {
   "cell_type": "code",
   "execution_count": 1359,
   "metadata": {},
   "outputs": [
    {
     "name": "stderr",
     "output_type": "stream",
     "text": [
      "C:\\Users\\sujit\\miniconda3\\envs\\xML\\lib\\site-packages\\sklearn\\utils\\validation.py:993: DataConversionWarning: A column-vector y was passed when a 1d array was expected. Please change the shape of y to (n_samples, ), for example using ravel().\n",
      "  y = column_or_1d(y, warn=True)\n"
     ]
    },
    {
     "data": {
      "text/plain": [
       "RuleFitRegressor(max_rules=20, random_state=1)"
      ]
     },
     "execution_count": 1359,
     "metadata": {},
     "output_type": "execute_result"
    }
   ],
   "source": [
    "X_train, y_train, X_val, y_val = ex_2_3()\n",
    "regr = RuleFitRegressor(max_rules=20, tree_size=4, random_state=1) # max_rules=20, tree_size=4, random_state=1\n",
    "regr.fit(X_train, y_train)"
   ]
  },
  {
   "cell_type": "code",
   "execution_count": 1360,
   "metadata": {},
   "outputs": [
    {
     "data": {
      "text/plain": [
       "0.7425312702484043"
      ]
     },
     "execution_count": 1360,
     "metadata": {},
     "output_type": "execute_result"
    }
   ],
   "source": [
    "regr.score(X_train, y_train)"
   ]
  },
  {
   "cell_type": "code",
   "execution_count": 1361,
   "metadata": {},
   "outputs": [
    {
     "data": {
      "text/plain": [
       "0.7237159472197947"
      ]
     },
     "execution_count": 1361,
     "metadata": {},
     "output_type": "execute_result"
    }
   ],
   "source": [
    "regr.score(X_val, y_val)"
   ]
  },
  {
   "cell_type": "code",
   "execution_count": 1362,
   "metadata": {},
   "outputs": [
    {
     "data": {
      "text/plain": [
       "4324.667133250575"
      ]
     },
     "execution_count": 1362,
     "metadata": {},
     "output_type": "execute_result"
    }
   ],
   "source": [
    "regr.intercept"
   ]
  },
  {
   "cell_type": "code",
   "execution_count": 1363,
   "metadata": {},
   "outputs": [
    {
     "data": {
      "text/html": [
       "<div>\n",
       "<style scoped>\n",
       "    .dataframe tbody tr th:only-of-type {\n",
       "        vertical-align: middle;\n",
       "    }\n",
       "\n",
       "    .dataframe tbody tr th {\n",
       "        vertical-align: top;\n",
       "    }\n",
       "\n",
       "    .dataframe thead th {\n",
       "        text-align: right;\n",
       "    }\n",
       "</style>\n",
       "<table border=\"1\" class=\"dataframe\">\n",
       "  <thead>\n",
       "    <tr style=\"text-align: right;\">\n",
       "      <th></th>\n",
       "      <th>rule</th>\n",
       "      <th>coef</th>\n",
       "    </tr>\n",
       "  </thead>\n",
       "  <tbody>\n",
       "    <tr>\n",
       "      <th>17</th>\n",
       "      <td>temp &lt;= 14.14875</td>\n",
       "      <td>-143.48</td>\n",
       "    </tr>\n",
       "    <tr>\n",
       "      <th>15</th>\n",
       "      <td>temp &lt;= 13.79625</td>\n",
       "      <td>-197.35</td>\n",
       "    </tr>\n",
       "    <tr>\n",
       "      <th>18</th>\n",
       "      <td>days_since_01_01_2011 &lt;= 718.0 and days_since_01_01_2011 &gt; 424.5</td>\n",
       "      <td>154.01</td>\n",
       "    </tr>\n",
       "    <tr>\n",
       "      <th>16</th>\n",
       "      <td>temp &lt;= 13.18917</td>\n",
       "      <td>-7.97</td>\n",
       "    </tr>\n",
       "    <tr>\n",
       "      <th>12</th>\n",
       "      <td>temp &lt;= 12.77792</td>\n",
       "      <td>-130.40</td>\n",
       "    </tr>\n",
       "    <tr>\n",
       "      <th>24</th>\n",
       "      <td>days_since_01_01_2011 &gt; 417.5 and temp &gt; 8.69353</td>\n",
       "      <td>122.07</td>\n",
       "    </tr>\n",
       "    <tr>\n",
       "      <th>19</th>\n",
       "      <td>days_since_01_01_2011 &gt; 438.0 and temp &gt; 5.81816 and hum &lt;= 0.82439</td>\n",
       "      <td>784.99</td>\n",
       "    </tr>\n",
       "    <tr>\n",
       "      <th>14</th>\n",
       "      <td>temp &lt;= 11.75958</td>\n",
       "      <td>-115.73</td>\n",
       "    </tr>\n",
       "    <tr>\n",
       "      <th>10</th>\n",
       "      <td>temp &lt;= 11.68125</td>\n",
       "      <td>-31.19</td>\n",
       "    </tr>\n",
       "    <tr>\n",
       "      <th>20</th>\n",
       "      <td>days_since_01_01_2011 &gt; 370.5 and temp &gt; 7.66667 and hum &lt;= 0.845 and windspeed &lt;= 0.28824</td>\n",
       "      <td>439.18</td>\n",
       "    </tr>\n",
       "    <tr>\n",
       "      <th>23</th>\n",
       "      <td>days_since_01_01_2011 &gt; 429.5 and temp &gt; 10.17335</td>\n",
       "      <td>101.47</td>\n",
       "    </tr>\n",
       "    <tr>\n",
       "      <th>22</th>\n",
       "      <td>days_since_01_01_2011 &gt; 452.5 and season &gt; 1.5 and hum &lt;= 0.76542</td>\n",
       "      <td>271.47</td>\n",
       "    </tr>\n",
       "    <tr>\n",
       "      <th>21</th>\n",
       "      <td>days_since_01_01_2011 &gt; 432.0 and temp &gt; 7.15919 and hum &lt;= 0.74542</td>\n",
       "      <td>179.38</td>\n",
       "    </tr>\n",
       "    <tr>\n",
       "      <th>13</th>\n",
       "      <td>days_since_01_01_2011 &lt;= 408.0 and temp &lt;= 13.56125</td>\n",
       "      <td>-153.26</td>\n",
       "    </tr>\n",
       "    <tr>\n",
       "      <th>9</th>\n",
       "      <td>season &lt;= 3.0 and temp &lt;= 12.31218</td>\n",
       "      <td>-516.60</td>\n",
       "    </tr>\n",
       "    <tr>\n",
       "      <th>8</th>\n",
       "      <td>days_since_01_01_2011 &lt;= 388.0 and temp &lt;= 12.87585</td>\n",
       "      <td>-73.60</td>\n",
       "    </tr>\n",
       "    <tr>\n",
       "      <th>11</th>\n",
       "      <td>days_since_01_01_2011 &lt;= 368.5 and temp &lt;= 12.85625</td>\n",
       "      <td>-105.81</td>\n",
       "    </tr>\n",
       "  </tbody>\n",
       "</table>\n",
       "</div>"
      ],
      "text/plain": [
       "                                                                                          rule  \\\n",
       "17                                                                            temp <= 14.14875   \n",
       "15                                                                            temp <= 13.79625   \n",
       "18                            days_since_01_01_2011 <= 718.0 and days_since_01_01_2011 > 424.5   \n",
       "16                                                                            temp <= 13.18917   \n",
       "12                                                                            temp <= 12.77792   \n",
       "24                                            days_since_01_01_2011 > 417.5 and temp > 8.69353   \n",
       "19                         days_since_01_01_2011 > 438.0 and temp > 5.81816 and hum <= 0.82439   \n",
       "14                                                                            temp <= 11.75958   \n",
       "10                                                                            temp <= 11.68125   \n",
       "20  days_since_01_01_2011 > 370.5 and temp > 7.66667 and hum <= 0.845 and windspeed <= 0.28824   \n",
       "23                                           days_since_01_01_2011 > 429.5 and temp > 10.17335   \n",
       "22                           days_since_01_01_2011 > 452.5 and season > 1.5 and hum <= 0.76542   \n",
       "21                         days_since_01_01_2011 > 432.0 and temp > 7.15919 and hum <= 0.74542   \n",
       "13                                         days_since_01_01_2011 <= 408.0 and temp <= 13.56125   \n",
       "9                                                           season <= 3.0 and temp <= 12.31218   \n",
       "8                                          days_since_01_01_2011 <= 388.0 and temp <= 12.87585   \n",
       "11                                         days_since_01_01_2011 <= 368.5 and temp <= 12.85625   \n",
       "\n",
       "      coef  \n",
       "17 -143.48  \n",
       "15 -197.35  \n",
       "18  154.01  \n",
       "16   -7.97  \n",
       "12 -130.40  \n",
       "24  122.07  \n",
       "19  784.99  \n",
       "14 -115.73  \n",
       "10  -31.19  \n",
       "20  439.18  \n",
       "23  101.47  \n",
       "22  271.47  \n",
       "21  179.38  \n",
       "13 -153.26  \n",
       "9  -516.60  \n",
       "8   -73.60  \n",
       "11 -105.81  "
      ]
     },
     "execution_count": 1363,
     "metadata": {},
     "output_type": "execute_result"
    }
   ],
   "source": [
    "regr.visualize()"
   ]
  },
  {
   "cell_type": "markdown",
   "metadata": {},
   "source": [
    "### Exercise 2.7\n",
    "Find the rule with the highest support, what is the rule?. Write a function that return this Rule object"
   ]
  },
  {
   "cell_type": "code",
   "execution_count": 1364,
   "metadata": {},
   "outputs": [],
   "source": [
    "from imodels.util.rule import Rule\n",
    "\n",
    "def ex_2_7() -> Rule:\n",
    "    #TODO\n",
    "    max_supported_rule = None\n",
    "    max_support = 0\n",
    "    \n",
    "    for rule in regr.rules_:\n",
    "        if rule.support > max_support:\n",
    "            max_support = rule.support\n",
    "            max_supported_rule = rule\n",
    "    \n",
    "    return max_supported_rule"
   ]
  },
  {
   "cell_type": "code",
   "execution_count": 1365,
   "metadata": {},
   "outputs": [
    {
     "name": "stderr",
     "output_type": "stream",
     "text": [
      "C:\\Users\\sujit\\miniconda3\\envs\\xML\\lib\\site-packages\\sklearn\\utils\\validation.py:993: DataConversionWarning: A column-vector y was passed when a 1d array was expected. Please change the shape of y to (n_samples, ), for example using ravel().\n",
      "  y = column_or_1d(y, warn=True)\n"
     ]
    },
    {
     "name": "stdout",
     "output_type": "stream",
     "text": [
      "Great work!\n"
     ]
    }
   ],
   "source": [
    "compare(\"ex_2_7\", ex_2_7)"
   ]
  },
  {
   "cell_type": "markdown",
   "metadata": {},
   "source": [
    "### Exercise 2.8\n",
    "Write a function that takes the name of the feature variable `feature_key` and one specific value for that feature `feature_value`. It should return the number of rented bikes of the average training sample but with the one feature `feature_key` set to the specified `feature_value`. Use the RuleFitRegressor as it is defined above"
   ]
  },
  {
   "cell_type": "code",
   "execution_count": 1366,
   "metadata": {},
   "outputs": [],
   "source": [
    "def ex_2_8(feature_key, feature_value) -> np.array:\n",
    "    X_average = X_train.mean()\n",
    "    #TODO\n",
    "    X_average[feature_key] = feature_value\n",
    "    return regr.predict([X_average])"
   ]
  },
  {
   "cell_type": "code",
   "execution_count": 1367,
   "metadata": {},
   "outputs": [
    {
     "name": "stderr",
     "output_type": "stream",
     "text": [
      "C:\\Users\\sujit\\miniconda3\\envs\\xML\\lib\\site-packages\\sklearn\\utils\\validation.py:993: DataConversionWarning: A column-vector y was passed when a 1d array was expected. Please change the shape of y to (n_samples, ), for example using ravel().\n",
      "  y = column_or_1d(y, warn=True)\n"
     ]
    },
    {
     "name": "stdout",
     "output_type": "stream",
     "text": [
      "Great work!\n"
     ]
    }
   ],
   "source": [
    "compare(\"ex_2_8\", ex_2_8)"
   ]
  },
  {
   "cell_type": "code",
   "execution_count": 1368,
   "metadata": {},
   "outputs": [],
   "source": [
    "def plot_ex_2_8(feature_key, feature_values):\n",
    "    xs = feature_values\n",
    "    ys = list(map(lambda x: ex_2_8(feature_key, x), xs))\n",
    "    plt.plot(xs, ys)\n",
    "    plt.xlabel(feature_key)\n",
    "    plt.ylabel(\"cnt\")"
   ]
  },
  {
   "cell_type": "code",
   "execution_count": 1369,
   "metadata": {},
   "outputs": [
    {
     "data": {
      "image/png": "[encoded data removed]",
      "text/plain": [
       "<Figure size 640x480 with 1 Axes>"
      ]
     },
     "metadata": {},
     "output_type": "display_data"
    }
   ],
   "source": [
    "plot_ex_2_8(\"days_since_01_01_2011\", np.linspace(0, 800, 100))\n",
    "plt.show()"
   ]
  },
  {
   "cell_type": "code",
   "execution_count": 1370,
   "metadata": {},
   "outputs": [
    {
     "data": {
      "image/png": "[encoded data removed]",
      "text/plain": [
       "<Figure size 640x480 with 1 Axes>"
      ]
     },
     "metadata": {},
     "output_type": "display_data"
    }
   ],
   "source": [
    "plot_ex_2_8(\"hum\", np.linspace(0, 1, 100))\n",
    "plt.show()"
   ]
  },
  {
   "cell_type": "code",
   "execution_count": 1371,
   "metadata": {},
   "outputs": [
    {
     "data": {
      "image/png": "[encoded data removed]",
      "text/plain": [
       "<Figure size 640x480 with 1 Axes>"
      ]
     },
     "metadata": {},
     "output_type": "display_data"
    }
   ],
   "source": [
    "plot_ex_2_8(\"temp\", np.linspace(-10, 35, 100))\n",
    "plt.show()"
   ]
  },
  {
   "cell_type": "markdown",
   "metadata": {},
   "source": [
    "Q: Is the Regressor stable around the mean training feature when varying e.g. the temperature?\n",
    "\n",
    "Q: Would you have to check stability for linear/logistic regression?"
   ]
  },
  {
   "cell_type": "code",
   "execution_count": 1372,
   "metadata": {},
   "outputs": [
    {
     "data": {
      "image/png": "[encoded data removed]",
      "text/plain": [
       "<Figure size 640x480 with 2 Axes>"
      ]
     },
     "metadata": {},
     "output_type": "display_data"
    }
   ],
   "source": [
    "from sklearn.inspection import PartialDependenceDisplay\n",
    "\n",
    "regr = DecisionTreeRegressor(max_depth=4, random_state=1) \n",
    "regr.fit(X_train, y_train)\n",
    "\n",
    "PartialDependenceDisplay.from_estimator(regr, X_val, [(\"temp\", \"hum\")], contour_kw=dict(cmap=\"coolwarm\"), grid_resolution=1000)\n",
    "plt.show()"
   ]
  },
  {
   "cell_type": "code",
   "execution_count": 1373,
   "metadata": {},
   "outputs": [],
   "source": [
    "#TODO: run this\n",
    "write_submission_txt()"
   ]
  },
  {
   "cell_type": "code",
   "execution_count": 1374,
   "metadata": {},
   "outputs": [
    {
     "data": {
      "text/plain": [
       "{'ex_2_1': True,\n",
       " 'ex_2_2': True,\n",
       " 'ex_2_3': True,\n",
       " 'ex_2_4': True,\n",
       " 'ex_2_5': True,\n",
       " 'ex_2_6': True,\n",
       " 'ex_2_7': True,\n",
       " 'ex_2_8': True}"
      ]
     },
     "execution_count": 1374,
     "metadata": {},
     "output_type": "execute_result"
    }
   ],
   "source": [
    "from ce2_compare import scores, grade\n",
    "scores"
   ]
  },
  {
   "cell_type": "code",
   "execution_count": 1375,
   "metadata": {},
   "outputs": [
    {
     "data": {
      "text/plain": [
       "'100.0% are correct'"
      ]
     },
     "execution_count": 1375,
     "metadata": {},
     "output_type": "execute_result"
    }
   ],
   "source": [
    "grade(\"ce2_Sujit_Debnath.txt\")"
   ]
  }
 ],
 "metadata": {
  "interpreter": {
   "hash": "687d99c135f695afcc4493fdf91e16807faa4e221160a5d096775a6978e05562"
  },
  "kernelspec": {
   "display_name": "Python 3 (ipykernel)",
   "language": "python",
   "name": "python3"
  },
  "language_info": {
   "codemirror_mode": {
    "name": "ipython",
    "version": 3
   },
   "file_extension": ".py",
   "mimetype": "text/x-python",
   "name": "python",
   "nbconvert_exporter": "python",
   "pygments_lexer": "ipython3",
   "version": "3.9.15"
  }
 },
 "nbformat": 4,
 "nbformat_minor": 4
}
